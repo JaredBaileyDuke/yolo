{
  "nbformat": 4,
  "nbformat_minor": 0,
  "metadata": {
    "colab": {
      "provenance": [],
      "machine_shape": "hm",
      "gpuType": "A100"
    },
    "kernelspec": {
      "name": "python3",
      "display_name": "Python 3"
    },
    "language_info": {
      "name": "python"
    },
    "accelerator": "GPU"
  },
  "cells": [
    {
      "cell_type": "markdown",
      "source": [
        "# Image Classification with YOLO (You Only Look Once)"
      ],
      "metadata": {
        "id": "3RK2YU7qtcoQ"
      }
    },
    {
      "cell_type": "markdown",
      "source": [
        "## Setup the Environment"
      ],
      "metadata": {
        "id": "kksRqSVRtnSV"
      }
    },
    {
      "cell_type": "code",
      "execution_count": 1,
      "metadata": {
        "colab": {
          "base_uri": "https://localhost:8080/"
        },
        "id": "aj_z3vFLs2_p",
        "outputId": "fd0757a7-7f66-457c-d0c0-f9ca6f901e0d"
      },
      "outputs": [
        {
          "output_type": "stream",
          "name": "stdout",
          "text": [
            "Collecting ultralytics\n",
            "  Downloading ultralytics-8.3.104-py3-none-any.whl.metadata (37 kB)\n",
            "Requirement already satisfied: numpy<=2.1.1,>=1.23.0 in /usr/local/lib/python3.11/dist-packages (from ultralytics) (2.0.2)\n",
            "Requirement already satisfied: matplotlib>=3.3.0 in /usr/local/lib/python3.11/dist-packages (from ultralytics) (3.10.0)\n",
            "Requirement already satisfied: opencv-python>=4.6.0 in /usr/local/lib/python3.11/dist-packages (from ultralytics) (4.11.0.86)\n",
            "Requirement already satisfied: pillow>=7.1.2 in /usr/local/lib/python3.11/dist-packages (from ultralytics) (11.1.0)\n",
            "Requirement already satisfied: pyyaml>=5.3.1 in /usr/local/lib/python3.11/dist-packages (from ultralytics) (6.0.2)\n",
            "Requirement already satisfied: requests>=2.23.0 in /usr/local/lib/python3.11/dist-packages (from ultralytics) (2.32.3)\n",
            "Requirement already satisfied: scipy>=1.4.1 in /usr/local/lib/python3.11/dist-packages (from ultralytics) (1.14.1)\n",
            "Requirement already satisfied: torch>=1.8.0 in /usr/local/lib/python3.11/dist-packages (from ultralytics) (2.6.0+cu124)\n",
            "Requirement already satisfied: torchvision>=0.9.0 in /usr/local/lib/python3.11/dist-packages (from ultralytics) (0.21.0+cu124)\n",
            "Requirement already satisfied: tqdm>=4.64.0 in /usr/local/lib/python3.11/dist-packages (from ultralytics) (4.67.1)\n",
            "Requirement already satisfied: psutil in /usr/local/lib/python3.11/dist-packages (from ultralytics) (5.9.5)\n",
            "Requirement already satisfied: py-cpuinfo in /usr/local/lib/python3.11/dist-packages (from ultralytics) (9.0.0)\n",
            "Requirement already satisfied: pandas>=1.1.4 in /usr/local/lib/python3.11/dist-packages (from ultralytics) (2.2.2)\n",
            "Requirement already satisfied: seaborn>=0.11.0 in /usr/local/lib/python3.11/dist-packages (from ultralytics) (0.13.2)\n",
            "Collecting ultralytics-thop>=2.0.0 (from ultralytics)\n",
            "  Downloading ultralytics_thop-2.0.14-py3-none-any.whl.metadata (9.4 kB)\n",
            "Requirement already satisfied: contourpy>=1.0.1 in /usr/local/lib/python3.11/dist-packages (from matplotlib>=3.3.0->ultralytics) (1.3.1)\n",
            "Requirement already satisfied: cycler>=0.10 in /usr/local/lib/python3.11/dist-packages (from matplotlib>=3.3.0->ultralytics) (0.12.1)\n",
            "Requirement already satisfied: fonttools>=4.22.0 in /usr/local/lib/python3.11/dist-packages (from matplotlib>=3.3.0->ultralytics) (4.57.0)\n",
            "Requirement already satisfied: kiwisolver>=1.3.1 in /usr/local/lib/python3.11/dist-packages (from matplotlib>=3.3.0->ultralytics) (1.4.8)\n",
            "Requirement already satisfied: packaging>=20.0 in /usr/local/lib/python3.11/dist-packages (from matplotlib>=3.3.0->ultralytics) (24.2)\n",
            "Requirement already satisfied: pyparsing>=2.3.1 in /usr/local/lib/python3.11/dist-packages (from matplotlib>=3.3.0->ultralytics) (3.2.3)\n",
            "Requirement already satisfied: python-dateutil>=2.7 in /usr/local/lib/python3.11/dist-packages (from matplotlib>=3.3.0->ultralytics) (2.8.2)\n",
            "Requirement already satisfied: pytz>=2020.1 in /usr/local/lib/python3.11/dist-packages (from pandas>=1.1.4->ultralytics) (2025.2)\n",
            "Requirement already satisfied: tzdata>=2022.7 in /usr/local/lib/python3.11/dist-packages (from pandas>=1.1.4->ultralytics) (2025.2)\n",
            "Requirement already satisfied: charset-normalizer<4,>=2 in /usr/local/lib/python3.11/dist-packages (from requests>=2.23.0->ultralytics) (3.4.1)\n",
            "Requirement already satisfied: idna<4,>=2.5 in /usr/local/lib/python3.11/dist-packages (from requests>=2.23.0->ultralytics) (3.10)\n",
            "Requirement already satisfied: urllib3<3,>=1.21.1 in /usr/local/lib/python3.11/dist-packages (from requests>=2.23.0->ultralytics) (2.3.0)\n",
            "Requirement already satisfied: certifi>=2017.4.17 in /usr/local/lib/python3.11/dist-packages (from requests>=2.23.0->ultralytics) (2025.1.31)\n",
            "Requirement already satisfied: filelock in /usr/local/lib/python3.11/dist-packages (from torch>=1.8.0->ultralytics) (3.18.0)\n",
            "Requirement already satisfied: typing-extensions>=4.10.0 in /usr/local/lib/python3.11/dist-packages (from torch>=1.8.0->ultralytics) (4.13.1)\n",
            "Requirement already satisfied: networkx in /usr/local/lib/python3.11/dist-packages (from torch>=1.8.0->ultralytics) (3.4.2)\n",
            "Requirement already satisfied: jinja2 in /usr/local/lib/python3.11/dist-packages (from torch>=1.8.0->ultralytics) (3.1.6)\n",
            "Requirement already satisfied: fsspec in /usr/local/lib/python3.11/dist-packages (from torch>=1.8.0->ultralytics) (2025.3.2)\n",
            "Collecting nvidia-cuda-nvrtc-cu12==12.4.127 (from torch>=1.8.0->ultralytics)\n",
            "  Downloading nvidia_cuda_nvrtc_cu12-12.4.127-py3-none-manylinux2014_x86_64.whl.metadata (1.5 kB)\n",
            "Collecting nvidia-cuda-runtime-cu12==12.4.127 (from torch>=1.8.0->ultralytics)\n",
            "  Downloading nvidia_cuda_runtime_cu12-12.4.127-py3-none-manylinux2014_x86_64.whl.metadata (1.5 kB)\n",
            "Collecting nvidia-cuda-cupti-cu12==12.4.127 (from torch>=1.8.0->ultralytics)\n",
            "  Downloading nvidia_cuda_cupti_cu12-12.4.127-py3-none-manylinux2014_x86_64.whl.metadata (1.6 kB)\n",
            "Collecting nvidia-cudnn-cu12==9.1.0.70 (from torch>=1.8.0->ultralytics)\n",
            "  Downloading nvidia_cudnn_cu12-9.1.0.70-py3-none-manylinux2014_x86_64.whl.metadata (1.6 kB)\n",
            "Collecting nvidia-cublas-cu12==12.4.5.8 (from torch>=1.8.0->ultralytics)\n",
            "  Downloading nvidia_cublas_cu12-12.4.5.8-py3-none-manylinux2014_x86_64.whl.metadata (1.5 kB)\n",
            "Collecting nvidia-cufft-cu12==11.2.1.3 (from torch>=1.8.0->ultralytics)\n",
            "  Downloading nvidia_cufft_cu12-11.2.1.3-py3-none-manylinux2014_x86_64.whl.metadata (1.5 kB)\n",
            "Collecting nvidia-curand-cu12==10.3.5.147 (from torch>=1.8.0->ultralytics)\n",
            "  Downloading nvidia_curand_cu12-10.3.5.147-py3-none-manylinux2014_x86_64.whl.metadata (1.5 kB)\n",
            "Collecting nvidia-cusolver-cu12==11.6.1.9 (from torch>=1.8.0->ultralytics)\n",
            "  Downloading nvidia_cusolver_cu12-11.6.1.9-py3-none-manylinux2014_x86_64.whl.metadata (1.6 kB)\n",
            "Collecting nvidia-cusparse-cu12==12.3.1.170 (from torch>=1.8.0->ultralytics)\n",
            "  Downloading nvidia_cusparse_cu12-12.3.1.170-py3-none-manylinux2014_x86_64.whl.metadata (1.6 kB)\n",
            "Requirement already satisfied: nvidia-cusparselt-cu12==0.6.2 in /usr/local/lib/python3.11/dist-packages (from torch>=1.8.0->ultralytics) (0.6.2)\n",
            "Requirement already satisfied: nvidia-nccl-cu12==2.21.5 in /usr/local/lib/python3.11/dist-packages (from torch>=1.8.0->ultralytics) (2.21.5)\n",
            "Requirement already satisfied: nvidia-nvtx-cu12==12.4.127 in /usr/local/lib/python3.11/dist-packages (from torch>=1.8.0->ultralytics) (12.4.127)\n",
            "Collecting nvidia-nvjitlink-cu12==12.4.127 (from torch>=1.8.0->ultralytics)\n",
            "  Downloading nvidia_nvjitlink_cu12-12.4.127-py3-none-manylinux2014_x86_64.whl.metadata (1.5 kB)\n",
            "Requirement already satisfied: triton==3.2.0 in /usr/local/lib/python3.11/dist-packages (from torch>=1.8.0->ultralytics) (3.2.0)\n",
            "Requirement already satisfied: sympy==1.13.1 in /usr/local/lib/python3.11/dist-packages (from torch>=1.8.0->ultralytics) (1.13.1)\n",
            "Requirement already satisfied: mpmath<1.4,>=1.1.0 in /usr/local/lib/python3.11/dist-packages (from sympy==1.13.1->torch>=1.8.0->ultralytics) (1.3.0)\n",
            "Requirement already satisfied: six>=1.5 in /usr/local/lib/python3.11/dist-packages (from python-dateutil>=2.7->matplotlib>=3.3.0->ultralytics) (1.17.0)\n",
            "Requirement already satisfied: MarkupSafe>=2.0 in /usr/local/lib/python3.11/dist-packages (from jinja2->torch>=1.8.0->ultralytics) (3.0.2)\n",
            "Downloading ultralytics-8.3.104-py3-none-any.whl (994 kB)\n",
            "\u001b[2K   \u001b[90m━━━━━━━━━━━━━━━━━━━━━━━━━━━━━━━━━━━━━━━━\u001b[0m \u001b[32m994.1/994.1 kB\u001b[0m \u001b[31m17.8 MB/s\u001b[0m eta \u001b[36m0:00:00\u001b[0m\n",
            "\u001b[?25hDownloading nvidia_cublas_cu12-12.4.5.8-py3-none-manylinux2014_x86_64.whl (363.4 MB)\n",
            "\u001b[2K   \u001b[90m━━━━━━━━━━━━━━━━━━━━━━━━━━━━━━━━━━━━━━━━\u001b[0m \u001b[32m363.4/363.4 MB\u001b[0m \u001b[31m3.4 MB/s\u001b[0m eta \u001b[36m0:00:00\u001b[0m\n",
            "\u001b[?25hDownloading nvidia_cuda_cupti_cu12-12.4.127-py3-none-manylinux2014_x86_64.whl (13.8 MB)\n",
            "\u001b[2K   \u001b[90m━━━━━━━━━━━━━━━━━━━━━━━━━━━━━━━━━━━━━━━━\u001b[0m \u001b[32m13.8/13.8 MB\u001b[0m \u001b[31m54.0 MB/s\u001b[0m eta \u001b[36m0:00:00\u001b[0m\n",
            "\u001b[?25hDownloading nvidia_cuda_nvrtc_cu12-12.4.127-py3-none-manylinux2014_x86_64.whl (24.6 MB)\n",
            "\u001b[2K   \u001b[90m━━━━━━━━━━━━━━━━━━━━━━━━━━━━━━━━━━━━━━━━\u001b[0m \u001b[32m24.6/24.6 MB\u001b[0m \u001b[31m77.0 MB/s\u001b[0m eta \u001b[36m0:00:00\u001b[0m\n",
            "\u001b[?25hDownloading nvidia_cuda_runtime_cu12-12.4.127-py3-none-manylinux2014_x86_64.whl (883 kB)\n",
            "\u001b[2K   \u001b[90m━━━━━━━━━━━━━━━━━━━━━━━━━━━━━━━━━━━━━━━━\u001b[0m \u001b[32m883.7/883.7 kB\u001b[0m \u001b[31m55.5 MB/s\u001b[0m eta \u001b[36m0:00:00\u001b[0m\n",
            "\u001b[?25hDownloading nvidia_cudnn_cu12-9.1.0.70-py3-none-manylinux2014_x86_64.whl (664.8 MB)\n",
            "\u001b[2K   \u001b[90m━━━━━━━━━━━━━━━━━━━━━━━━━━━━━━━━━━━━━━━━\u001b[0m \u001b[32m664.8/664.8 MB\u001b[0m \u001b[31m1.8 MB/s\u001b[0m eta \u001b[36m0:00:00\u001b[0m\n",
            "\u001b[?25hDownloading nvidia_cufft_cu12-11.2.1.3-py3-none-manylinux2014_x86_64.whl (211.5 MB)\n",
            "\u001b[2K   \u001b[90m━━━━━━━━━━━━━━━━━━━━━━━━━━━━━━━━━━━━━━━━\u001b[0m \u001b[32m211.5/211.5 MB\u001b[0m \u001b[31m9.5 MB/s\u001b[0m eta \u001b[36m0:00:00\u001b[0m\n",
            "\u001b[?25hDownloading nvidia_curand_cu12-10.3.5.147-py3-none-manylinux2014_x86_64.whl (56.3 MB)\n",
            "\u001b[2K   \u001b[90m━━━━━━━━━━━━━━━━━━━━━━━━━━━━━━━━━━━━━━━━\u001b[0m \u001b[32m56.3/56.3 MB\u001b[0m \u001b[31m34.0 MB/s\u001b[0m eta \u001b[36m0:00:00\u001b[0m\n",
            "\u001b[?25hDownloading nvidia_cusolver_cu12-11.6.1.9-py3-none-manylinux2014_x86_64.whl (127.9 MB)\n",
            "\u001b[2K   \u001b[90m━━━━━━━━━━━━━━━━━━━━━━━━━━━━━━━━━━━━━━━━\u001b[0m \u001b[32m127.9/127.9 MB\u001b[0m \u001b[31m17.1 MB/s\u001b[0m eta \u001b[36m0:00:00\u001b[0m\n",
            "\u001b[?25hDownloading nvidia_cusparse_cu12-12.3.1.170-py3-none-manylinux2014_x86_64.whl (207.5 MB)\n",
            "\u001b[2K   \u001b[90m━━━━━━━━━━━━━━━━━━━━━━━━━━━━━━━━━━━━━━━━\u001b[0m \u001b[32m207.5/207.5 MB\u001b[0m \u001b[31m5.6 MB/s\u001b[0m eta \u001b[36m0:00:00\u001b[0m\n",
            "\u001b[?25hDownloading nvidia_nvjitlink_cu12-12.4.127-py3-none-manylinux2014_x86_64.whl (21.1 MB)\n",
            "\u001b[2K   \u001b[90m━━━━━━━━━━━━━━━━━━━━━━━━━━━━━━━━━━━━━━━━\u001b[0m \u001b[32m21.1/21.1 MB\u001b[0m \u001b[31m86.6 MB/s\u001b[0m eta \u001b[36m0:00:00\u001b[0m\n",
            "\u001b[?25hDownloading ultralytics_thop-2.0.14-py3-none-any.whl (26 kB)\n",
            "Installing collected packages: nvidia-nvjitlink-cu12, nvidia-curand-cu12, nvidia-cufft-cu12, nvidia-cuda-runtime-cu12, nvidia-cuda-nvrtc-cu12, nvidia-cuda-cupti-cu12, nvidia-cublas-cu12, nvidia-cusparse-cu12, nvidia-cudnn-cu12, nvidia-cusolver-cu12, ultralytics-thop, ultralytics\n",
            "  Attempting uninstall: nvidia-nvjitlink-cu12\n",
            "    Found existing installation: nvidia-nvjitlink-cu12 12.5.82\n",
            "    Uninstalling nvidia-nvjitlink-cu12-12.5.82:\n",
            "      Successfully uninstalled nvidia-nvjitlink-cu12-12.5.82\n",
            "  Attempting uninstall: nvidia-curand-cu12\n",
            "    Found existing installation: nvidia-curand-cu12 10.3.6.82\n",
            "    Uninstalling nvidia-curand-cu12-10.3.6.82:\n",
            "      Successfully uninstalled nvidia-curand-cu12-10.3.6.82\n",
            "  Attempting uninstall: nvidia-cufft-cu12\n",
            "    Found existing installation: nvidia-cufft-cu12 11.2.3.61\n",
            "    Uninstalling nvidia-cufft-cu12-11.2.3.61:\n",
            "      Successfully uninstalled nvidia-cufft-cu12-11.2.3.61\n",
            "  Attempting uninstall: nvidia-cuda-runtime-cu12\n",
            "    Found existing installation: nvidia-cuda-runtime-cu12 12.5.82\n",
            "    Uninstalling nvidia-cuda-runtime-cu12-12.5.82:\n",
            "      Successfully uninstalled nvidia-cuda-runtime-cu12-12.5.82\n",
            "  Attempting uninstall: nvidia-cuda-nvrtc-cu12\n",
            "    Found existing installation: nvidia-cuda-nvrtc-cu12 12.5.82\n",
            "    Uninstalling nvidia-cuda-nvrtc-cu12-12.5.82:\n",
            "      Successfully uninstalled nvidia-cuda-nvrtc-cu12-12.5.82\n",
            "  Attempting uninstall: nvidia-cuda-cupti-cu12\n",
            "    Found existing installation: nvidia-cuda-cupti-cu12 12.5.82\n",
            "    Uninstalling nvidia-cuda-cupti-cu12-12.5.82:\n",
            "      Successfully uninstalled nvidia-cuda-cupti-cu12-12.5.82\n",
            "  Attempting uninstall: nvidia-cublas-cu12\n",
            "    Found existing installation: nvidia-cublas-cu12 12.5.3.2\n",
            "    Uninstalling nvidia-cublas-cu12-12.5.3.2:\n",
            "      Successfully uninstalled nvidia-cublas-cu12-12.5.3.2\n",
            "  Attempting uninstall: nvidia-cusparse-cu12\n",
            "    Found existing installation: nvidia-cusparse-cu12 12.5.1.3\n",
            "    Uninstalling nvidia-cusparse-cu12-12.5.1.3:\n",
            "      Successfully uninstalled nvidia-cusparse-cu12-12.5.1.3\n",
            "  Attempting uninstall: nvidia-cudnn-cu12\n",
            "    Found existing installation: nvidia-cudnn-cu12 9.3.0.75\n",
            "    Uninstalling nvidia-cudnn-cu12-9.3.0.75:\n",
            "      Successfully uninstalled nvidia-cudnn-cu12-9.3.0.75\n",
            "  Attempting uninstall: nvidia-cusolver-cu12\n",
            "    Found existing installation: nvidia-cusolver-cu12 11.6.3.83\n",
            "    Uninstalling nvidia-cusolver-cu12-11.6.3.83:\n",
            "      Successfully uninstalled nvidia-cusolver-cu12-11.6.3.83\n",
            "Successfully installed nvidia-cublas-cu12-12.4.5.8 nvidia-cuda-cupti-cu12-12.4.127 nvidia-cuda-nvrtc-cu12-12.4.127 nvidia-cuda-runtime-cu12-12.4.127 nvidia-cudnn-cu12-9.1.0.70 nvidia-cufft-cu12-11.2.1.3 nvidia-curand-cu12-10.3.5.147 nvidia-cusolver-cu12-11.6.1.9 nvidia-cusparse-cu12-12.3.1.170 nvidia-nvjitlink-cu12-12.4.127 ultralytics-8.3.104 ultralytics-thop-2.0.14\n"
          ]
        }
      ],
      "source": [
        "# install the ultralytics package, which will handle the machine learning using YOLO\n",
        "!pip install ultralytics"
      ]
    },
    {
      "cell_type": "code",
      "source": [
        "# import the needed packages\n",
        "from ultralytics import YOLO # machine learning package\n",
        "from google.colab import drive # allows connections to google drive\n",
        "import os"
      ],
      "metadata": {
        "colab": {
          "base_uri": "https://localhost:8080/"
        },
        "id": "JtAijrAds8XB",
        "outputId": "571e8938-c6a3-4966-db96-0f1c66167594"
      },
      "execution_count": 2,
      "outputs": [
        {
          "output_type": "stream",
          "name": "stdout",
          "text": [
            "Creating new Ultralytics Settings v0.0.6 file ✅ \n",
            "View Ultralytics Settings with 'yolo settings' or at '/root/.config/Ultralytics/settings.json'\n",
            "Update Settings with 'yolo settings key=value', i.e. 'yolo settings runs_dir=path/to/dir'. For help see https://docs.ultralytics.com/quickstart/#ultralytics-settings.\n"
          ]
        }
      ]
    },
    {
      "cell_type": "code",
      "source": [
        "# mount your google drive\n",
        "drive.mount(\"/content/gdrive\")"
      ],
      "metadata": {
        "colab": {
          "base_uri": "https://localhost:8080/"
        },
        "id": "BIBMJnons-Wy",
        "outputId": "ca1a2740-dddb-423a-ea94-d49f79392784"
      },
      "execution_count": 3,
      "outputs": [
        {
          "output_type": "stream",
          "name": "stdout",
          "text": [
            "Mounted at /content/gdrive\n"
          ]
        }
      ]
    },
    {
      "cell_type": "markdown",
      "source": [
        "## Train the Model"
      ],
      "metadata": {
        "id": "vOywmcpNuB-C"
      }
    },
    {
      "cell_type": "code",
      "source": [
        "# point to the location of your image data\n",
        "ROOT_DIR = \"/content/gdrive/My Drive/Rock_Paper_Scissors/Model_Files\""
      ],
      "metadata": {
        "id": "sn0XGJxkt7aT"
      },
      "execution_count": 4,
      "outputs": []
    },
    {
      "cell_type": "code",
      "source": [
        "# load the model\n",
        "model = YOLO(\"yolov8n.yaml\")"
      ],
      "metadata": {
        "id": "XVQZ6OYWuMzb"
      },
      "execution_count": 5,
      "outputs": []
    },
    {
      "cell_type": "code",
      "source": [
        "# train the model on the image data\n",
        "output = model.train(data=os.path.join(ROOT_DIR, \"data.yaml\"), epochs=75)"
      ],
      "metadata": {
        "id": "H501seYotT8U",
        "colab": {
          "base_uri": "https://localhost:8080/"
        },
        "outputId": "89e235cb-0322-45ab-ac97-7dfbb3807d21"
      },
      "execution_count": 6,
      "outputs": [
        {
          "output_type": "stream",
          "name": "stdout",
          "text": [
            "Ultralytics 8.3.104 🚀 Python-3.11.11 torch-2.6.0+cu124 CUDA:0 (NVIDIA A100-SXM4-40GB, 40507MiB)\n",
            "\u001b[34m\u001b[1mengine/trainer: \u001b[0mtask=detect, mode=train, model=yolov8n.yaml, data=/content/gdrive/My Drive/Rock_Paper_Scissors/Model_Files/data.yaml, epochs=75, time=None, patience=100, batch=16, imgsz=640, save=True, save_period=-1, cache=False, device=None, workers=8, project=None, name=train, exist_ok=False, pretrained=True, optimizer=auto, verbose=True, seed=0, deterministic=True, single_cls=False, rect=False, cos_lr=False, close_mosaic=10, resume=False, amp=True, fraction=1.0, profile=False, freeze=None, multi_scale=False, overlap_mask=True, mask_ratio=4, dropout=0.0, val=True, split=val, save_json=False, save_hybrid=False, conf=None, iou=0.7, max_det=300, half=False, dnn=False, plots=True, source=None, vid_stride=1, stream_buffer=False, visualize=False, augment=False, agnostic_nms=False, classes=None, retina_masks=False, embed=None, show=False, save_frames=False, save_txt=False, save_conf=False, save_crop=False, show_labels=True, show_conf=True, show_boxes=True, line_width=None, format=torchscript, keras=False, optimize=False, int8=False, dynamic=False, simplify=True, opset=None, workspace=None, nms=False, lr0=0.01, lrf=0.01, momentum=0.937, weight_decay=0.0005, warmup_epochs=3.0, warmup_momentum=0.8, warmup_bias_lr=0.1, box=7.5, cls=0.5, dfl=1.5, pose=12.0, kobj=1.0, nbs=64, hsv_h=0.015, hsv_s=0.7, hsv_v=0.4, degrees=0.0, translate=0.1, scale=0.5, shear=0.0, perspective=0.0, flipud=0.0, fliplr=0.5, bgr=0.0, mosaic=1.0, mixup=0.0, copy_paste=0.0, copy_paste_mode=flip, auto_augment=randaugment, erasing=0.4, crop_fraction=1.0, cfg=None, tracker=botsort.yaml, save_dir=runs/detect/train\n",
            "Downloading https://ultralytics.com/assets/Arial.ttf to '/root/.config/Ultralytics/Arial.ttf'...\n"
          ]
        },
        {
          "output_type": "stream",
          "name": "stderr",
          "text": [
            "100%|██████████| 755k/755k [00:00<00:00, 14.4MB/s]\n"
          ]
        },
        {
          "output_type": "stream",
          "name": "stdout",
          "text": [
            "Overriding model.yaml nc=80 with nc=3\n",
            "\n",
            "                   from  n    params  module                                       arguments                     \n",
            "  0                  -1  1       464  ultralytics.nn.modules.conv.Conv             [3, 16, 3, 2]                 \n",
            "  1                  -1  1      4672  ultralytics.nn.modules.conv.Conv             [16, 32, 3, 2]                \n",
            "  2                  -1  1      7360  ultralytics.nn.modules.block.C2f             [32, 32, 1, True]             \n",
            "  3                  -1  1     18560  ultralytics.nn.modules.conv.Conv             [32, 64, 3, 2]                \n",
            "  4                  -1  2     49664  ultralytics.nn.modules.block.C2f             [64, 64, 2, True]             \n",
            "  5                  -1  1     73984  ultralytics.nn.modules.conv.Conv             [64, 128, 3, 2]               \n",
            "  6                  -1  2    197632  ultralytics.nn.modules.block.C2f             [128, 128, 2, True]           \n",
            "  7                  -1  1    295424  ultralytics.nn.modules.conv.Conv             [128, 256, 3, 2]              \n",
            "  8                  -1  1    460288  ultralytics.nn.modules.block.C2f             [256, 256, 1, True]           \n",
            "  9                  -1  1    164608  ultralytics.nn.modules.block.SPPF            [256, 256, 5]                 \n",
            " 10                  -1  1         0  torch.nn.modules.upsampling.Upsample         [None, 2, 'nearest']          \n",
            " 11             [-1, 6]  1         0  ultralytics.nn.modules.conv.Concat           [1]                           \n",
            " 12                  -1  1    148224  ultralytics.nn.modules.block.C2f             [384, 128, 1]                 \n",
            " 13                  -1  1         0  torch.nn.modules.upsampling.Upsample         [None, 2, 'nearest']          \n",
            " 14             [-1, 4]  1         0  ultralytics.nn.modules.conv.Concat           [1]                           \n",
            " 15                  -1  1     37248  ultralytics.nn.modules.block.C2f             [192, 64, 1]                  \n",
            " 16                  -1  1     36992  ultralytics.nn.modules.conv.Conv             [64, 64, 3, 2]                \n",
            " 17            [-1, 12]  1         0  ultralytics.nn.modules.conv.Concat           [1]                           \n",
            " 18                  -1  1    123648  ultralytics.nn.modules.block.C2f             [192, 128, 1]                 \n",
            " 19                  -1  1    147712  ultralytics.nn.modules.conv.Conv             [128, 128, 3, 2]              \n",
            " 20             [-1, 9]  1         0  ultralytics.nn.modules.conv.Concat           [1]                           \n",
            " 21                  -1  1    493056  ultralytics.nn.modules.block.C2f             [384, 256, 1]                 \n",
            " 22        [15, 18, 21]  1    751897  ultralytics.nn.modules.head.Detect           [3, [64, 128, 256]]           \n",
            "YOLOv8n summary: 129 layers, 3,011,433 parameters, 3,011,417 gradients, 8.2 GFLOPs\n",
            "\n",
            "\u001b[34m\u001b[1mTensorBoard: \u001b[0mStart with 'tensorboard --logdir runs/detect/train', view at http://localhost:6006/\n",
            "Freezing layer 'model.22.dfl.conv.weight'\n",
            "\u001b[34m\u001b[1mAMP: \u001b[0mrunning Automatic Mixed Precision (AMP) checks...\n",
            "Downloading https://github.com/ultralytics/assets/releases/download/v8.3.0/yolo11n.pt to 'yolo11n.pt'...\n"
          ]
        },
        {
          "output_type": "stream",
          "name": "stderr",
          "text": [
            "100%|██████████| 5.35M/5.35M [00:00<00:00, 62.4MB/s]\n"
          ]
        },
        {
          "output_type": "stream",
          "name": "stdout",
          "text": [
            "\u001b[34m\u001b[1mAMP: \u001b[0mchecks passed ✅\n"
          ]
        },
        {
          "output_type": "stream",
          "name": "stderr",
          "text": [
            "\u001b[34m\u001b[1mtrain: \u001b[0mScanning /content/gdrive/My Drive/Rock_Paper_Scissors/Model_Files/train/labels.cache... 6454 images, 2517 backgrounds, 0 corrupt: 100%|██████████| 6455/6455 [00:00<?, ?it/s]\n"
          ]
        },
        {
          "output_type": "stream",
          "name": "stdout",
          "text": [
            "\u001b[34m\u001b[1malbumentations: \u001b[0mBlur(p=0.01, blur_limit=(3, 7)), MedianBlur(p=0.01, blur_limit=(3, 7)), ToGray(p=0.01, num_output_channels=3, method='weighted_average'), CLAHE(p=0.01, clip_limit=(1.0, 4.0), tile_grid_size=(8, 8))\n"
          ]
        },
        {
          "output_type": "stream",
          "name": "stderr",
          "text": [
            "\u001b[34m\u001b[1mval: \u001b[0mScanning /content/gdrive/My Drive/Rock_Paper_Scissors/Model_Files/valid/labels.cache... 576 images, 238 backgrounds, 0 corrupt: 100%|██████████| 576/576 [00:00<?, ?it/s]\n"
          ]
        },
        {
          "output_type": "stream",
          "name": "stdout",
          "text": [
            "Plotting labels to runs/detect/train/labels.jpg... \n",
            "\u001b[34m\u001b[1moptimizer:\u001b[0m 'optimizer=auto' found, ignoring 'lr0=0.01' and 'momentum=0.937' and determining best 'optimizer', 'lr0' and 'momentum' automatically... \n",
            "\u001b[34m\u001b[1moptimizer:\u001b[0m AdamW(lr=0.001429, momentum=0.9) with parameter groups 57 weight(decay=0.0), 64 weight(decay=0.0005), 63 bias(decay=0.0)\n",
            "\u001b[34m\u001b[1mTensorBoard: \u001b[0mmodel graph visualization added ✅\n",
            "Image sizes 640 train, 640 val\n",
            "Using 8 dataloader workers\n",
            "Logging results to \u001b[1mruns/detect/train\u001b[0m\n",
            "Starting training for 75 epochs...\n",
            "\n",
            "      Epoch    GPU_mem   box_loss   cls_loss   dfl_loss  Instances       Size\n"
          ]
        },
        {
          "output_type": "stream",
          "name": "stderr",
          "text": [
            "       1/75      2.08G      3.048      4.859      3.764          6        640: 100%|██████████| 404/404 [01:53<00:00,  3.55it/s]\n",
            "                 Class     Images  Instances      Box(P          R      mAP50  mAP50-95): 100%|██████████| 18/18 [00:03<00:00,  5.38it/s]\n"
          ]
        },
        {
          "output_type": "stream",
          "name": "stdout",
          "text": [
            "                   all        576        400     0.0258     0.0155     0.0214    0.00592\n",
            "\n",
            "      Epoch    GPU_mem   box_loss   cls_loss   dfl_loss  Instances       Size\n"
          ]
        },
        {
          "output_type": "stream",
          "name": "stderr",
          "text": [
            "       2/75      2.61G      2.326      3.849      2.836         13        640: 100%|██████████| 404/404 [00:40<00:00,  9.88it/s]\n",
            "                 Class     Images  Instances      Box(P          R      mAP50  mAP50-95): 100%|██████████| 18/18 [00:02<00:00,  8.25it/s]"
          ]
        },
        {
          "output_type": "stream",
          "name": "stdout",
          "text": [
            "                   all        576        400      0.222      0.307      0.165     0.0676\n"
          ]
        },
        {
          "output_type": "stream",
          "name": "stderr",
          "text": [
            "\n"
          ]
        },
        {
          "output_type": "stream",
          "name": "stdout",
          "text": [
            "\n",
            "      Epoch    GPU_mem   box_loss   cls_loss   dfl_loss  Instances       Size\n"
          ]
        },
        {
          "output_type": "stream",
          "name": "stderr",
          "text": [
            "       3/75      2.61G      2.021      3.232       2.47          3        640: 100%|██████████| 404/404 [00:39<00:00, 10.23it/s]\n",
            "                 Class     Images  Instances      Box(P          R      mAP50  mAP50-95): 100%|██████████| 18/18 [00:02<00:00,  8.46it/s]"
          ]
        },
        {
          "output_type": "stream",
          "name": "stdout",
          "text": [
            "                   all        576        400      0.135      0.261      0.177     0.0775\n"
          ]
        },
        {
          "output_type": "stream",
          "name": "stderr",
          "text": [
            "\n"
          ]
        },
        {
          "output_type": "stream",
          "name": "stdout",
          "text": [
            "\n",
            "      Epoch    GPU_mem   box_loss   cls_loss   dfl_loss  Instances       Size\n"
          ]
        },
        {
          "output_type": "stream",
          "name": "stderr",
          "text": [
            "       4/75      2.61G      1.871       2.97      2.304         11        640: 100%|██████████| 404/404 [00:39<00:00, 10.33it/s]\n",
            "                 Class     Images  Instances      Box(P          R      mAP50  mAP50-95): 100%|██████████| 18/18 [00:02<00:00,  8.47it/s]"
          ]
        },
        {
          "output_type": "stream",
          "name": "stdout",
          "text": [
            "                   all        576        400      0.208      0.259      0.148     0.0685\n"
          ]
        },
        {
          "output_type": "stream",
          "name": "stderr",
          "text": [
            "\n"
          ]
        },
        {
          "output_type": "stream",
          "name": "stdout",
          "text": [
            "\n",
            "      Epoch    GPU_mem   box_loss   cls_loss   dfl_loss  Instances       Size\n"
          ]
        },
        {
          "output_type": "stream",
          "name": "stderr",
          "text": [
            "       5/75      2.61G      1.756      2.688      2.172          5        640: 100%|██████████| 404/404 [00:39<00:00, 10.36it/s]\n",
            "                 Class     Images  Instances      Box(P          R      mAP50  mAP50-95): 100%|██████████| 18/18 [00:02<00:00,  8.16it/s]"
          ]
        },
        {
          "output_type": "stream",
          "name": "stdout",
          "text": [
            "                   all        576        400      0.459      0.328      0.361      0.197\n"
          ]
        },
        {
          "output_type": "stream",
          "name": "stderr",
          "text": [
            "\n"
          ]
        },
        {
          "output_type": "stream",
          "name": "stdout",
          "text": [
            "\n",
            "      Epoch    GPU_mem   box_loss   cls_loss   dfl_loss  Instances       Size\n"
          ]
        },
        {
          "output_type": "stream",
          "name": "stderr",
          "text": [
            "       6/75      2.62G      1.677      2.523      2.091          5        640: 100%|██████████| 404/404 [00:38<00:00, 10.38it/s]\n",
            "                 Class     Images  Instances      Box(P          R      mAP50  mAP50-95): 100%|██████████| 18/18 [00:02<00:00,  8.09it/s]"
          ]
        },
        {
          "output_type": "stream",
          "name": "stdout",
          "text": [
            "                   all        576        400      0.458      0.409      0.428      0.233\n"
          ]
        },
        {
          "output_type": "stream",
          "name": "stderr",
          "text": [
            "\n"
          ]
        },
        {
          "output_type": "stream",
          "name": "stdout",
          "text": [
            "\n",
            "      Epoch    GPU_mem   box_loss   cls_loss   dfl_loss  Instances       Size\n"
          ]
        },
        {
          "output_type": "stream",
          "name": "stderr",
          "text": [
            "       7/75      2.63G       1.62      2.321      2.037          3        640: 100%|██████████| 404/404 [00:39<00:00, 10.33it/s]\n",
            "                 Class     Images  Instances      Box(P          R      mAP50  mAP50-95): 100%|██████████| 18/18 [00:02<00:00,  8.78it/s]"
          ]
        },
        {
          "output_type": "stream",
          "name": "stdout",
          "text": [
            "                   all        576        400      0.502      0.505      0.543      0.327\n"
          ]
        },
        {
          "output_type": "stream",
          "name": "stderr",
          "text": [
            "\n"
          ]
        },
        {
          "output_type": "stream",
          "name": "stdout",
          "text": [
            "\n",
            "      Epoch    GPU_mem   box_loss   cls_loss   dfl_loss  Instances       Size\n"
          ]
        },
        {
          "output_type": "stream",
          "name": "stderr",
          "text": [
            "       8/75      2.64G      1.563      2.217      1.976          5        640: 100%|██████████| 404/404 [00:39<00:00, 10.31it/s]\n",
            "                 Class     Images  Instances      Box(P          R      mAP50  mAP50-95): 100%|██████████| 18/18 [00:02<00:00,  8.41it/s]"
          ]
        },
        {
          "output_type": "stream",
          "name": "stdout",
          "text": [
            "                   all        576        400       0.53      0.558      0.562      0.349\n"
          ]
        },
        {
          "output_type": "stream",
          "name": "stderr",
          "text": [
            "\n"
          ]
        },
        {
          "output_type": "stream",
          "name": "stdout",
          "text": [
            "\n",
            "      Epoch    GPU_mem   box_loss   cls_loss   dfl_loss  Instances       Size\n"
          ]
        },
        {
          "output_type": "stream",
          "name": "stderr",
          "text": [
            "       9/75      2.66G      1.499      2.073      1.918          4        640: 100%|██████████| 404/404 [00:39<00:00, 10.36it/s]\n",
            "                 Class     Images  Instances      Box(P          R      mAP50  mAP50-95): 100%|██████████| 18/18 [00:02<00:00,  8.56it/s]"
          ]
        },
        {
          "output_type": "stream",
          "name": "stdout",
          "text": [
            "                   all        576        400      0.511      0.664       0.66      0.419\n"
          ]
        },
        {
          "output_type": "stream",
          "name": "stderr",
          "text": [
            "\n"
          ]
        },
        {
          "output_type": "stream",
          "name": "stdout",
          "text": [
            "\n",
            "      Epoch    GPU_mem   box_loss   cls_loss   dfl_loss  Instances       Size\n"
          ]
        },
        {
          "output_type": "stream",
          "name": "stderr",
          "text": [
            "      10/75      2.68G      1.485      2.005      1.893          9        640: 100%|██████████| 404/404 [00:39<00:00, 10.32it/s]\n",
            "                 Class     Images  Instances      Box(P          R      mAP50  mAP50-95): 100%|██████████| 18/18 [00:02<00:00,  7.95it/s]"
          ]
        },
        {
          "output_type": "stream",
          "name": "stdout",
          "text": [
            "                   all        576        400      0.649      0.606      0.703      0.448\n"
          ]
        },
        {
          "output_type": "stream",
          "name": "stderr",
          "text": [
            "\n"
          ]
        },
        {
          "output_type": "stream",
          "name": "stdout",
          "text": [
            "\n",
            "      Epoch    GPU_mem   box_loss   cls_loss   dfl_loss  Instances       Size\n"
          ]
        },
        {
          "output_type": "stream",
          "name": "stderr",
          "text": [
            "      11/75      2.68G      1.433      1.919      1.849          8        640: 100%|██████████| 404/404 [00:39<00:00, 10.26it/s]\n",
            "                 Class     Images  Instances      Box(P          R      mAP50  mAP50-95): 100%|██████████| 18/18 [00:02<00:00,  8.14it/s]"
          ]
        },
        {
          "output_type": "stream",
          "name": "stdout",
          "text": [
            "                   all        576        400      0.648      0.604      0.678       0.43\n"
          ]
        },
        {
          "output_type": "stream",
          "name": "stderr",
          "text": [
            "\n"
          ]
        },
        {
          "output_type": "stream",
          "name": "stdout",
          "text": [
            "\n",
            "      Epoch    GPU_mem   box_loss   cls_loss   dfl_loss  Instances       Size\n"
          ]
        },
        {
          "output_type": "stream",
          "name": "stderr",
          "text": [
            "      12/75      2.68G      1.404      1.868      1.818          9        640: 100%|██████████| 404/404 [00:39<00:00, 10.27it/s]\n",
            "                 Class     Images  Instances      Box(P          R      mAP50  mAP50-95): 100%|██████████| 18/18 [00:02<00:00,  8.41it/s]"
          ]
        },
        {
          "output_type": "stream",
          "name": "stdout",
          "text": [
            "                   all        576        400      0.662      0.731       0.76      0.512\n"
          ]
        },
        {
          "output_type": "stream",
          "name": "stderr",
          "text": [
            "\n"
          ]
        },
        {
          "output_type": "stream",
          "name": "stdout",
          "text": [
            "\n",
            "      Epoch    GPU_mem   box_loss   cls_loss   dfl_loss  Instances       Size\n"
          ]
        },
        {
          "output_type": "stream",
          "name": "stderr",
          "text": [
            "      13/75      2.68G      1.379      1.792      1.791          6        640: 100%|██████████| 404/404 [00:39<00:00, 10.31it/s]\n",
            "                 Class     Images  Instances      Box(P          R      mAP50  mAP50-95): 100%|██████████| 18/18 [00:02<00:00,  8.69it/s]"
          ]
        },
        {
          "output_type": "stream",
          "name": "stdout",
          "text": [
            "                   all        576        400      0.741      0.667      0.749      0.483\n"
          ]
        },
        {
          "output_type": "stream",
          "name": "stderr",
          "text": [
            "\n"
          ]
        },
        {
          "output_type": "stream",
          "name": "stdout",
          "text": [
            "\n",
            "      Epoch    GPU_mem   box_loss   cls_loss   dfl_loss  Instances       Size\n"
          ]
        },
        {
          "output_type": "stream",
          "name": "stderr",
          "text": [
            "      14/75      2.68G      1.346      1.722      1.759          6        640: 100%|██████████| 404/404 [00:39<00:00, 10.34it/s]\n",
            "                 Class     Images  Instances      Box(P          R      mAP50  mAP50-95): 100%|██████████| 18/18 [00:02<00:00,  8.03it/s]"
          ]
        },
        {
          "output_type": "stream",
          "name": "stdout",
          "text": [
            "                   all        576        400      0.747      0.744      0.802      0.544\n"
          ]
        },
        {
          "output_type": "stream",
          "name": "stderr",
          "text": [
            "\n"
          ]
        },
        {
          "output_type": "stream",
          "name": "stdout",
          "text": [
            "\n",
            "      Epoch    GPU_mem   box_loss   cls_loss   dfl_loss  Instances       Size\n"
          ]
        },
        {
          "output_type": "stream",
          "name": "stderr",
          "text": [
            "      15/75      2.68G      1.334      1.661      1.751          7        640: 100%|██████████| 404/404 [00:39<00:00, 10.29it/s]\n",
            "                 Class     Images  Instances      Box(P          R      mAP50  mAP50-95): 100%|██████████| 18/18 [00:02<00:00,  8.65it/s]"
          ]
        },
        {
          "output_type": "stream",
          "name": "stdout",
          "text": [
            "                   all        576        400      0.739      0.716      0.798      0.527\n"
          ]
        },
        {
          "output_type": "stream",
          "name": "stderr",
          "text": [
            "\n"
          ]
        },
        {
          "output_type": "stream",
          "name": "stdout",
          "text": [
            "\n",
            "      Epoch    GPU_mem   box_loss   cls_loss   dfl_loss  Instances       Size\n"
          ]
        },
        {
          "output_type": "stream",
          "name": "stderr",
          "text": [
            "      16/75      2.68G        1.3      1.621      1.707          4        640: 100%|██████████| 404/404 [00:39<00:00, 10.32it/s]\n",
            "                 Class     Images  Instances      Box(P          R      mAP50  mAP50-95): 100%|██████████| 18/18 [00:02<00:00,  8.16it/s]"
          ]
        },
        {
          "output_type": "stream",
          "name": "stdout",
          "text": [
            "                   all        576        400      0.749      0.766      0.821      0.567\n"
          ]
        },
        {
          "output_type": "stream",
          "name": "stderr",
          "text": [
            "\n"
          ]
        },
        {
          "output_type": "stream",
          "name": "stdout",
          "text": [
            "\n",
            "      Epoch    GPU_mem   box_loss   cls_loss   dfl_loss  Instances       Size\n"
          ]
        },
        {
          "output_type": "stream",
          "name": "stderr",
          "text": [
            "      17/75      2.68G      1.285      1.579        1.7          6        640: 100%|██████████| 404/404 [00:39<00:00, 10.34it/s]\n",
            "                 Class     Images  Instances      Box(P          R      mAP50  mAP50-95): 100%|██████████| 18/18 [00:02<00:00,  8.57it/s]"
          ]
        },
        {
          "output_type": "stream",
          "name": "stdout",
          "text": [
            "                   all        576        400      0.763       0.77      0.847      0.595\n"
          ]
        },
        {
          "output_type": "stream",
          "name": "stderr",
          "text": [
            "\n"
          ]
        },
        {
          "output_type": "stream",
          "name": "stdout",
          "text": [
            "\n",
            "      Epoch    GPU_mem   box_loss   cls_loss   dfl_loss  Instances       Size\n"
          ]
        },
        {
          "output_type": "stream",
          "name": "stderr",
          "text": [
            "      18/75      2.68G       1.29      1.571      1.702         17        640: 100%|██████████| 404/404 [00:39<00:00, 10.34it/s]\n",
            "                 Class     Images  Instances      Box(P          R      mAP50  mAP50-95): 100%|██████████| 18/18 [00:02<00:00,  8.23it/s]"
          ]
        },
        {
          "output_type": "stream",
          "name": "stdout",
          "text": [
            "                   all        576        400       0.78      0.797      0.852      0.596\n"
          ]
        },
        {
          "output_type": "stream",
          "name": "stderr",
          "text": [
            "\n"
          ]
        },
        {
          "output_type": "stream",
          "name": "stdout",
          "text": [
            "\n",
            "      Epoch    GPU_mem   box_loss   cls_loss   dfl_loss  Instances       Size\n"
          ]
        },
        {
          "output_type": "stream",
          "name": "stderr",
          "text": [
            "      19/75      2.68G      1.233      1.483      1.657          9        640: 100%|██████████| 404/404 [00:39<00:00, 10.30it/s]\n",
            "                 Class     Images  Instances      Box(P          R      mAP50  mAP50-95): 100%|██████████| 18/18 [00:02<00:00,  8.76it/s]"
          ]
        },
        {
          "output_type": "stream",
          "name": "stdout",
          "text": [
            "                   all        576        400      0.791      0.792       0.85      0.599\n"
          ]
        },
        {
          "output_type": "stream",
          "name": "stderr",
          "text": [
            "\n"
          ]
        },
        {
          "output_type": "stream",
          "name": "stdout",
          "text": [
            "\n",
            "      Epoch    GPU_mem   box_loss   cls_loss   dfl_loss  Instances       Size\n"
          ]
        },
        {
          "output_type": "stream",
          "name": "stderr",
          "text": [
            "      20/75      2.68G      1.239      1.462      1.647         10        640: 100%|██████████| 404/404 [00:39<00:00, 10.32it/s]\n",
            "                 Class     Images  Instances      Box(P          R      mAP50  mAP50-95): 100%|██████████| 18/18 [00:02<00:00,  8.66it/s]"
          ]
        },
        {
          "output_type": "stream",
          "name": "stdout",
          "text": [
            "                   all        576        400      0.778      0.824      0.854      0.604\n"
          ]
        },
        {
          "output_type": "stream",
          "name": "stderr",
          "text": [
            "\n"
          ]
        },
        {
          "output_type": "stream",
          "name": "stdout",
          "text": [
            "\n",
            "      Epoch    GPU_mem   box_loss   cls_loss   dfl_loss  Instances       Size\n"
          ]
        },
        {
          "output_type": "stream",
          "name": "stderr",
          "text": [
            "      21/75      2.68G      1.215       1.41       1.63         14        640: 100%|██████████| 404/404 [00:39<00:00, 10.32it/s]\n",
            "                 Class     Images  Instances      Box(P          R      mAP50  mAP50-95): 100%|██████████| 18/18 [00:02<00:00,  8.56it/s]"
          ]
        },
        {
          "output_type": "stream",
          "name": "stdout",
          "text": [
            "                   all        576        400      0.823      0.832      0.882      0.629\n"
          ]
        },
        {
          "output_type": "stream",
          "name": "stderr",
          "text": [
            "\n"
          ]
        },
        {
          "output_type": "stream",
          "name": "stdout",
          "text": [
            "\n",
            "      Epoch    GPU_mem   box_loss   cls_loss   dfl_loss  Instances       Size\n"
          ]
        },
        {
          "output_type": "stream",
          "name": "stderr",
          "text": [
            "      22/75      2.68G      1.202      1.395      1.619          5        640: 100%|██████████| 404/404 [00:39<00:00, 10.33it/s]\n",
            "                 Class     Images  Instances      Box(P          R      mAP50  mAP50-95): 100%|██████████| 18/18 [00:02<00:00,  8.21it/s]"
          ]
        },
        {
          "output_type": "stream",
          "name": "stdout",
          "text": [
            "                   all        576        400      0.869      0.828      0.883       0.64\n"
          ]
        },
        {
          "output_type": "stream",
          "name": "stderr",
          "text": [
            "\n"
          ]
        },
        {
          "output_type": "stream",
          "name": "stdout",
          "text": [
            "\n",
            "      Epoch    GPU_mem   box_loss   cls_loss   dfl_loss  Instances       Size\n"
          ]
        },
        {
          "output_type": "stream",
          "name": "stderr",
          "text": [
            "      23/75      2.68G      1.196      1.376      1.616         13        640: 100%|██████████| 404/404 [00:39<00:00, 10.30it/s]\n",
            "                 Class     Images  Instances      Box(P          R      mAP50  mAP50-95): 100%|██████████| 18/18 [00:02<00:00,  8.62it/s]"
          ]
        },
        {
          "output_type": "stream",
          "name": "stdout",
          "text": [
            "                   all        576        400      0.849      0.788      0.874      0.617\n"
          ]
        },
        {
          "output_type": "stream",
          "name": "stderr",
          "text": [
            "\n"
          ]
        },
        {
          "output_type": "stream",
          "name": "stdout",
          "text": [
            "\n",
            "      Epoch    GPU_mem   box_loss   cls_loss   dfl_loss  Instances       Size\n"
          ]
        },
        {
          "output_type": "stream",
          "name": "stderr",
          "text": [
            "      24/75      2.68G      1.176      1.345      1.584          9        640: 100%|██████████| 404/404 [00:39<00:00, 10.35it/s]\n",
            "                 Class     Images  Instances      Box(P          R      mAP50  mAP50-95): 100%|██████████| 18/18 [00:02<00:00,  8.77it/s]"
          ]
        },
        {
          "output_type": "stream",
          "name": "stdout",
          "text": [
            "                   all        576        400      0.834      0.833      0.881      0.641\n"
          ]
        },
        {
          "output_type": "stream",
          "name": "stderr",
          "text": [
            "\n"
          ]
        },
        {
          "output_type": "stream",
          "name": "stdout",
          "text": [
            "\n",
            "      Epoch    GPU_mem   box_loss   cls_loss   dfl_loss  Instances       Size\n"
          ]
        },
        {
          "output_type": "stream",
          "name": "stderr",
          "text": [
            "      25/75      2.68G      1.149      1.277      1.566          8        640: 100%|██████████| 404/404 [00:39<00:00, 10.30it/s]\n",
            "                 Class     Images  Instances      Box(P          R      mAP50  mAP50-95): 100%|██████████| 18/18 [00:02<00:00,  8.86it/s]"
          ]
        },
        {
          "output_type": "stream",
          "name": "stdout",
          "text": [
            "                   all        576        400      0.847      0.847      0.894      0.639\n"
          ]
        },
        {
          "output_type": "stream",
          "name": "stderr",
          "text": [
            "\n"
          ]
        },
        {
          "output_type": "stream",
          "name": "stdout",
          "text": [
            "\n",
            "      Epoch    GPU_mem   box_loss   cls_loss   dfl_loss  Instances       Size\n"
          ]
        },
        {
          "output_type": "stream",
          "name": "stderr",
          "text": [
            "      26/75      2.68G      1.141       1.27      1.548          8        640: 100%|██████████| 404/404 [00:39<00:00, 10.33it/s]\n",
            "                 Class     Images  Instances      Box(P          R      mAP50  mAP50-95): 100%|██████████| 18/18 [00:02<00:00,  8.39it/s]"
          ]
        },
        {
          "output_type": "stream",
          "name": "stdout",
          "text": [
            "                   all        576        400      0.862      0.802      0.896      0.654\n"
          ]
        },
        {
          "output_type": "stream",
          "name": "stderr",
          "text": [
            "\n"
          ]
        },
        {
          "output_type": "stream",
          "name": "stdout",
          "text": [
            "\n",
            "      Epoch    GPU_mem   box_loss   cls_loss   dfl_loss  Instances       Size\n"
          ]
        },
        {
          "output_type": "stream",
          "name": "stderr",
          "text": [
            "      27/75      2.68G      1.133      1.245      1.533          9        640: 100%|██████████| 404/404 [00:39<00:00, 10.33it/s]\n",
            "                 Class     Images  Instances      Box(P          R      mAP50  mAP50-95): 100%|██████████| 18/18 [00:02<00:00,  8.58it/s]"
          ]
        },
        {
          "output_type": "stream",
          "name": "stdout",
          "text": [
            "                   all        576        400      0.901      0.858      0.914      0.669\n"
          ]
        },
        {
          "output_type": "stream",
          "name": "stderr",
          "text": [
            "\n"
          ]
        },
        {
          "output_type": "stream",
          "name": "stdout",
          "text": [
            "\n",
            "      Epoch    GPU_mem   box_loss   cls_loss   dfl_loss  Instances       Size\n"
          ]
        },
        {
          "output_type": "stream",
          "name": "stderr",
          "text": [
            "      28/75      2.68G      1.139      1.244      1.542          8        640: 100%|██████████| 404/404 [00:38<00:00, 10.38it/s]\n",
            "                 Class     Images  Instances      Box(P          R      mAP50  mAP50-95): 100%|██████████| 18/18 [00:02<00:00,  8.58it/s]"
          ]
        },
        {
          "output_type": "stream",
          "name": "stdout",
          "text": [
            "                   all        576        400      0.893      0.878      0.922      0.684\n"
          ]
        },
        {
          "output_type": "stream",
          "name": "stderr",
          "text": [
            "\n"
          ]
        },
        {
          "output_type": "stream",
          "name": "stdout",
          "text": [
            "\n",
            "      Epoch    GPU_mem   box_loss   cls_loss   dfl_loss  Instances       Size\n"
          ]
        },
        {
          "output_type": "stream",
          "name": "stderr",
          "text": [
            "      29/75      2.68G       1.12       1.22      1.536          5        640: 100%|██████████| 404/404 [00:39<00:00, 10.28it/s]\n",
            "                 Class     Images  Instances      Box(P          R      mAP50  mAP50-95): 100%|██████████| 18/18 [00:02<00:00,  8.72it/s]"
          ]
        },
        {
          "output_type": "stream",
          "name": "stdout",
          "text": [
            "                   all        576        400      0.841      0.826      0.883      0.651\n"
          ]
        },
        {
          "output_type": "stream",
          "name": "stderr",
          "text": [
            "\n"
          ]
        },
        {
          "output_type": "stream",
          "name": "stdout",
          "text": [
            "\n",
            "      Epoch    GPU_mem   box_loss   cls_loss   dfl_loss  Instances       Size\n"
          ]
        },
        {
          "output_type": "stream",
          "name": "stderr",
          "text": [
            "      30/75      2.68G      1.095       1.18      1.504         11        640: 100%|██████████| 404/404 [00:39<00:00, 10.32it/s]\n",
            "                 Class     Images  Instances      Box(P          R      mAP50  mAP50-95): 100%|██████████| 18/18 [00:02<00:00,  8.84it/s]"
          ]
        },
        {
          "output_type": "stream",
          "name": "stdout",
          "text": [
            "                   all        576        400      0.919      0.821      0.916      0.669\n"
          ]
        },
        {
          "output_type": "stream",
          "name": "stderr",
          "text": [
            "\n"
          ]
        },
        {
          "output_type": "stream",
          "name": "stdout",
          "text": [
            "\n",
            "      Epoch    GPU_mem   box_loss   cls_loss   dfl_loss  Instances       Size\n"
          ]
        },
        {
          "output_type": "stream",
          "name": "stderr",
          "text": [
            "      31/75      2.68G      1.076      1.172      1.492          6        640: 100%|██████████| 404/404 [00:39<00:00, 10.30it/s]\n",
            "                 Class     Images  Instances      Box(P          R      mAP50  mAP50-95): 100%|██████████| 18/18 [00:02<00:00,  8.90it/s]"
          ]
        },
        {
          "output_type": "stream",
          "name": "stdout",
          "text": [
            "                   all        576        400      0.905      0.886      0.927      0.701\n"
          ]
        },
        {
          "output_type": "stream",
          "name": "stderr",
          "text": [
            "\n"
          ]
        },
        {
          "output_type": "stream",
          "name": "stdout",
          "text": [
            "\n",
            "      Epoch    GPU_mem   box_loss   cls_loss   dfl_loss  Instances       Size\n"
          ]
        },
        {
          "output_type": "stream",
          "name": "stderr",
          "text": [
            "      32/75      2.68G      1.064      1.123      1.478         10        640: 100%|██████████| 404/404 [00:39<00:00, 10.31it/s]\n",
            "                 Class     Images  Instances      Box(P          R      mAP50  mAP50-95): 100%|██████████| 18/18 [00:01<00:00,  9.13it/s]"
          ]
        },
        {
          "output_type": "stream",
          "name": "stdout",
          "text": [
            "                   all        576        400      0.939      0.859      0.925      0.693\n"
          ]
        },
        {
          "output_type": "stream",
          "name": "stderr",
          "text": [
            "\n"
          ]
        },
        {
          "output_type": "stream",
          "name": "stdout",
          "text": [
            "\n",
            "      Epoch    GPU_mem   box_loss   cls_loss   dfl_loss  Instances       Size\n"
          ]
        },
        {
          "output_type": "stream",
          "name": "stderr",
          "text": [
            "      33/75      2.68G       1.07       1.12      1.478          9        640: 100%|██████████| 404/404 [00:39<00:00, 10.32it/s]\n",
            "                 Class     Images  Instances      Box(P          R      mAP50  mAP50-95): 100%|██████████| 18/18 [00:02<00:00,  8.37it/s]"
          ]
        },
        {
          "output_type": "stream",
          "name": "stdout",
          "text": [
            "                   all        576        400      0.901      0.867      0.918      0.684\n"
          ]
        },
        {
          "output_type": "stream",
          "name": "stderr",
          "text": [
            "\n"
          ]
        },
        {
          "output_type": "stream",
          "name": "stdout",
          "text": [
            "\n",
            "      Epoch    GPU_mem   box_loss   cls_loss   dfl_loss  Instances       Size\n"
          ]
        },
        {
          "output_type": "stream",
          "name": "stderr",
          "text": [
            "      34/75      2.68G      1.055      1.102      1.473         10        640: 100%|██████████| 404/404 [00:38<00:00, 10.37it/s]\n",
            "                 Class     Images  Instances      Box(P          R      mAP50  mAP50-95): 100%|██████████| 18/18 [00:02<00:00,  8.70it/s]"
          ]
        },
        {
          "output_type": "stream",
          "name": "stdout",
          "text": [
            "                   all        576        400      0.919      0.871      0.929      0.702\n"
          ]
        },
        {
          "output_type": "stream",
          "name": "stderr",
          "text": [
            "\n"
          ]
        },
        {
          "output_type": "stream",
          "name": "stdout",
          "text": [
            "\n",
            "      Epoch    GPU_mem   box_loss   cls_loss   dfl_loss  Instances       Size\n"
          ]
        },
        {
          "output_type": "stream",
          "name": "stderr",
          "text": [
            "      35/75      2.68G      1.056      1.075      1.466          8        640: 100%|██████████| 404/404 [00:38<00:00, 10.37it/s]\n",
            "                 Class     Images  Instances      Box(P          R      mAP50  mAP50-95): 100%|██████████| 18/18 [00:02<00:00,  8.91it/s]"
          ]
        },
        {
          "output_type": "stream",
          "name": "stdout",
          "text": [
            "                   all        576        400      0.907      0.895      0.931      0.714\n"
          ]
        },
        {
          "output_type": "stream",
          "name": "stderr",
          "text": [
            "\n"
          ]
        },
        {
          "output_type": "stream",
          "name": "stdout",
          "text": [
            "\n",
            "      Epoch    GPU_mem   box_loss   cls_loss   dfl_loss  Instances       Size\n"
          ]
        },
        {
          "output_type": "stream",
          "name": "stderr",
          "text": [
            "      36/75      2.68G      1.032      1.055      1.448          6        640: 100%|██████████| 404/404 [00:39<00:00, 10.30it/s]\n",
            "                 Class     Images  Instances      Box(P          R      mAP50  mAP50-95): 100%|██████████| 18/18 [00:02<00:00,  8.51it/s]"
          ]
        },
        {
          "output_type": "stream",
          "name": "stdout",
          "text": [
            "                   all        576        400      0.924      0.862      0.929      0.699\n"
          ]
        },
        {
          "output_type": "stream",
          "name": "stderr",
          "text": [
            "\n"
          ]
        },
        {
          "output_type": "stream",
          "name": "stdout",
          "text": [
            "\n",
            "      Epoch    GPU_mem   box_loss   cls_loss   dfl_loss  Instances       Size\n"
          ]
        },
        {
          "output_type": "stream",
          "name": "stderr",
          "text": [
            "      37/75      2.68G      1.021      1.054      1.444          8        640: 100%|██████████| 404/404 [00:39<00:00, 10.31it/s]\n",
            "                 Class     Images  Instances      Box(P          R      mAP50  mAP50-95): 100%|██████████| 18/18 [00:02<00:00,  8.93it/s]"
          ]
        },
        {
          "output_type": "stream",
          "name": "stdout",
          "text": [
            "                   all        576        400      0.883      0.881      0.918      0.691\n"
          ]
        },
        {
          "output_type": "stream",
          "name": "stderr",
          "text": [
            "\n"
          ]
        },
        {
          "output_type": "stream",
          "name": "stdout",
          "text": [
            "\n",
            "      Epoch    GPU_mem   box_loss   cls_loss   dfl_loss  Instances       Size\n"
          ]
        },
        {
          "output_type": "stream",
          "name": "stderr",
          "text": [
            "      38/75      2.68G      1.007      1.009      1.429          5        640: 100%|██████████| 404/404 [00:39<00:00, 10.28it/s]\n",
            "                 Class     Images  Instances      Box(P          R      mAP50  mAP50-95): 100%|██████████| 18/18 [00:02<00:00,  8.95it/s]"
          ]
        },
        {
          "output_type": "stream",
          "name": "stdout",
          "text": [
            "                   all        576        400      0.906      0.884       0.93      0.712\n"
          ]
        },
        {
          "output_type": "stream",
          "name": "stderr",
          "text": [
            "\n"
          ]
        },
        {
          "output_type": "stream",
          "name": "stdout",
          "text": [
            "\n",
            "      Epoch    GPU_mem   box_loss   cls_loss   dfl_loss  Instances       Size\n"
          ]
        },
        {
          "output_type": "stream",
          "name": "stderr",
          "text": [
            "      39/75      2.68G      1.007      1.011      1.424         10        640: 100%|██████████| 404/404 [00:39<00:00, 10.32it/s]\n",
            "                 Class     Images  Instances      Box(P          R      mAP50  mAP50-95): 100%|██████████| 18/18 [00:02<00:00,  8.84it/s]"
          ]
        },
        {
          "output_type": "stream",
          "name": "stdout",
          "text": [
            "                   all        576        400      0.921      0.889      0.931      0.718\n"
          ]
        },
        {
          "output_type": "stream",
          "name": "stderr",
          "text": [
            "\n"
          ]
        },
        {
          "output_type": "stream",
          "name": "stdout",
          "text": [
            "\n",
            "      Epoch    GPU_mem   box_loss   cls_loss   dfl_loss  Instances       Size\n"
          ]
        },
        {
          "output_type": "stream",
          "name": "stderr",
          "text": [
            "      40/75      2.68G     0.9984      1.001      1.421          9        640: 100%|██████████| 404/404 [00:39<00:00, 10.26it/s]\n",
            "                 Class     Images  Instances      Box(P          R      mAP50  mAP50-95): 100%|██████████| 18/18 [00:02<00:00,  8.68it/s]"
          ]
        },
        {
          "output_type": "stream",
          "name": "stdout",
          "text": [
            "                   all        576        400      0.938      0.887      0.935      0.721\n"
          ]
        },
        {
          "output_type": "stream",
          "name": "stderr",
          "text": [
            "\n"
          ]
        },
        {
          "output_type": "stream",
          "name": "stdout",
          "text": [
            "\n",
            "      Epoch    GPU_mem   box_loss   cls_loss   dfl_loss  Instances       Size\n"
          ]
        },
        {
          "output_type": "stream",
          "name": "stderr",
          "text": [
            "      41/75      2.68G     0.9872      0.998      1.404         11        640: 100%|██████████| 404/404 [00:39<00:00, 10.33it/s]\n",
            "                 Class     Images  Instances      Box(P          R      mAP50  mAP50-95): 100%|██████████| 18/18 [00:02<00:00,  8.76it/s]"
          ]
        },
        {
          "output_type": "stream",
          "name": "stdout",
          "text": [
            "                   all        576        400      0.919      0.857      0.933      0.721\n"
          ]
        },
        {
          "output_type": "stream",
          "name": "stderr",
          "text": [
            "\n"
          ]
        },
        {
          "output_type": "stream",
          "name": "stdout",
          "text": [
            "\n",
            "      Epoch    GPU_mem   box_loss   cls_loss   dfl_loss  Instances       Size\n"
          ]
        },
        {
          "output_type": "stream",
          "name": "stderr",
          "text": [
            "      42/75      2.68G     0.9862     0.9765        1.4          9        640: 100%|██████████| 404/404 [00:39<00:00, 10.33it/s]\n",
            "                 Class     Images  Instances      Box(P          R      mAP50  mAP50-95): 100%|██████████| 18/18 [00:02<00:00,  8.80it/s]"
          ]
        },
        {
          "output_type": "stream",
          "name": "stdout",
          "text": [
            "                   all        576        400      0.935      0.884      0.934      0.716\n"
          ]
        },
        {
          "output_type": "stream",
          "name": "stderr",
          "text": [
            "\n"
          ]
        },
        {
          "output_type": "stream",
          "name": "stdout",
          "text": [
            "\n",
            "      Epoch    GPU_mem   box_loss   cls_loss   dfl_loss  Instances       Size\n"
          ]
        },
        {
          "output_type": "stream",
          "name": "stderr",
          "text": [
            "      43/75      2.68G     0.9759     0.9628      1.394         10        640: 100%|██████████| 404/404 [00:39<00:00, 10.33it/s]\n",
            "                 Class     Images  Instances      Box(P          R      mAP50  mAP50-95): 100%|██████████| 18/18 [00:02<00:00,  8.94it/s]"
          ]
        },
        {
          "output_type": "stream",
          "name": "stdout",
          "text": [
            "                   all        576        400      0.937      0.869      0.936      0.713\n"
          ]
        },
        {
          "output_type": "stream",
          "name": "stderr",
          "text": [
            "\n"
          ]
        },
        {
          "output_type": "stream",
          "name": "stdout",
          "text": [
            "\n",
            "      Epoch    GPU_mem   box_loss   cls_loss   dfl_loss  Instances       Size\n"
          ]
        },
        {
          "output_type": "stream",
          "name": "stderr",
          "text": [
            "      44/75      2.68G     0.9444     0.9239      1.367         16        640: 100%|██████████| 404/404 [00:38<00:00, 10.40it/s]\n",
            "                 Class     Images  Instances      Box(P          R      mAP50  mAP50-95): 100%|██████████| 18/18 [00:02<00:00,  8.79it/s]"
          ]
        },
        {
          "output_type": "stream",
          "name": "stdout",
          "text": [
            "                   all        576        400      0.897      0.902      0.932      0.718\n"
          ]
        },
        {
          "output_type": "stream",
          "name": "stderr",
          "text": [
            "\n"
          ]
        },
        {
          "output_type": "stream",
          "name": "stdout",
          "text": [
            "\n",
            "      Epoch    GPU_mem   box_loss   cls_loss   dfl_loss  Instances       Size\n"
          ]
        },
        {
          "output_type": "stream",
          "name": "stderr",
          "text": [
            "      45/75      2.68G     0.9518     0.9415      1.379          4        640: 100%|██████████| 404/404 [00:38<00:00, 10.38it/s]\n",
            "                 Class     Images  Instances      Box(P          R      mAP50  mAP50-95): 100%|██████████| 18/18 [00:01<00:00,  9.42it/s]"
          ]
        },
        {
          "output_type": "stream",
          "name": "stdout",
          "text": [
            "                   all        576        400      0.927       0.89      0.942      0.724\n"
          ]
        },
        {
          "output_type": "stream",
          "name": "stderr",
          "text": [
            "\n"
          ]
        },
        {
          "output_type": "stream",
          "name": "stdout",
          "text": [
            "\n",
            "      Epoch    GPU_mem   box_loss   cls_loss   dfl_loss  Instances       Size\n"
          ]
        },
        {
          "output_type": "stream",
          "name": "stderr",
          "text": [
            "      46/75      2.68G     0.9426     0.9085      1.359          4        640: 100%|██████████| 404/404 [00:39<00:00, 10.27it/s]\n",
            "                 Class     Images  Instances      Box(P          R      mAP50  mAP50-95): 100%|██████████| 18/18 [00:02<00:00,  8.84it/s]"
          ]
        },
        {
          "output_type": "stream",
          "name": "stdout",
          "text": [
            "                   all        576        400      0.932      0.891      0.939      0.721\n"
          ]
        },
        {
          "output_type": "stream",
          "name": "stderr",
          "text": [
            "\n"
          ]
        },
        {
          "output_type": "stream",
          "name": "stdout",
          "text": [
            "\n",
            "      Epoch    GPU_mem   box_loss   cls_loss   dfl_loss  Instances       Size\n"
          ]
        },
        {
          "output_type": "stream",
          "name": "stderr",
          "text": [
            "      47/75      2.68G     0.9543     0.9198      1.375         13        640: 100%|██████████| 404/404 [00:39<00:00, 10.30it/s]\n",
            "                 Class     Images  Instances      Box(P          R      mAP50  mAP50-95): 100%|██████████| 18/18 [00:01<00:00,  9.47it/s]"
          ]
        },
        {
          "output_type": "stream",
          "name": "stdout",
          "text": [
            "                   all        576        400      0.943      0.903      0.945      0.729\n"
          ]
        },
        {
          "output_type": "stream",
          "name": "stderr",
          "text": [
            "\n"
          ]
        },
        {
          "output_type": "stream",
          "name": "stdout",
          "text": [
            "\n",
            "      Epoch    GPU_mem   box_loss   cls_loss   dfl_loss  Instances       Size\n"
          ]
        },
        {
          "output_type": "stream",
          "name": "stderr",
          "text": [
            "      48/75      2.68G     0.9366     0.9244      1.364          7        640: 100%|██████████| 404/404 [00:39<00:00, 10.34it/s]\n",
            "                 Class     Images  Instances      Box(P          R      mAP50  mAP50-95): 100%|██████████| 18/18 [00:01<00:00,  9.13it/s]\n"
          ]
        },
        {
          "output_type": "stream",
          "name": "stdout",
          "text": [
            "                   all        576        400      0.933      0.899      0.942      0.723\n",
            "\n",
            "      Epoch    GPU_mem   box_loss   cls_loss   dfl_loss  Instances       Size\n"
          ]
        },
        {
          "output_type": "stream",
          "name": "stderr",
          "text": [
            "      49/75      2.68G     0.9254     0.8741      1.347         11        640: 100%|██████████| 404/404 [00:39<00:00, 10.33it/s]\n",
            "                 Class     Images  Instances      Box(P          R      mAP50  mAP50-95): 100%|██████████| 18/18 [00:01<00:00,  9.10it/s]"
          ]
        },
        {
          "output_type": "stream",
          "name": "stdout",
          "text": [
            "                   all        576        400      0.943      0.906      0.944      0.736\n"
          ]
        },
        {
          "output_type": "stream",
          "name": "stderr",
          "text": [
            "\n"
          ]
        },
        {
          "output_type": "stream",
          "name": "stdout",
          "text": [
            "\n",
            "      Epoch    GPU_mem   box_loss   cls_loss   dfl_loss  Instances       Size\n"
          ]
        },
        {
          "output_type": "stream",
          "name": "stderr",
          "text": [
            "      50/75      2.68G     0.9194     0.8949      1.342         12        640: 100%|██████████| 404/404 [00:39<00:00, 10.35it/s]\n",
            "                 Class     Images  Instances      Box(P          R      mAP50  mAP50-95): 100%|██████████| 18/18 [00:02<00:00,  8.99it/s]"
          ]
        },
        {
          "output_type": "stream",
          "name": "stdout",
          "text": [
            "                   all        576        400      0.944      0.912      0.943      0.736\n"
          ]
        },
        {
          "output_type": "stream",
          "name": "stderr",
          "text": [
            "\n"
          ]
        },
        {
          "output_type": "stream",
          "name": "stdout",
          "text": [
            "\n",
            "      Epoch    GPU_mem   box_loss   cls_loss   dfl_loss  Instances       Size\n"
          ]
        },
        {
          "output_type": "stream",
          "name": "stderr",
          "text": [
            "      51/75      2.68G     0.9161     0.8772      1.341          9        640: 100%|██████████| 404/404 [00:38<00:00, 10.37it/s]\n",
            "                 Class     Images  Instances      Box(P          R      mAP50  mAP50-95): 100%|██████████| 18/18 [00:01<00:00,  9.26it/s]"
          ]
        },
        {
          "output_type": "stream",
          "name": "stdout",
          "text": [
            "                   all        576        400      0.935      0.905      0.942      0.731\n"
          ]
        },
        {
          "output_type": "stream",
          "name": "stderr",
          "text": [
            "\n"
          ]
        },
        {
          "output_type": "stream",
          "name": "stdout",
          "text": [
            "\n",
            "      Epoch    GPU_mem   box_loss   cls_loss   dfl_loss  Instances       Size\n"
          ]
        },
        {
          "output_type": "stream",
          "name": "stderr",
          "text": [
            "      52/75      2.68G     0.9058     0.8561      1.339          6        640: 100%|██████████| 404/404 [00:39<00:00, 10.31it/s]\n",
            "                 Class     Images  Instances      Box(P          R      mAP50  mAP50-95): 100%|██████████| 18/18 [00:02<00:00,  8.78it/s]"
          ]
        },
        {
          "output_type": "stream",
          "name": "stdout",
          "text": [
            "                   all        576        400      0.942      0.889      0.944      0.736\n"
          ]
        },
        {
          "output_type": "stream",
          "name": "stderr",
          "text": [
            "\n"
          ]
        },
        {
          "output_type": "stream",
          "name": "stdout",
          "text": [
            "\n",
            "      Epoch    GPU_mem   box_loss   cls_loss   dfl_loss  Instances       Size\n"
          ]
        },
        {
          "output_type": "stream",
          "name": "stderr",
          "text": [
            "      53/75      2.68G      0.899     0.8373      1.318          7        640: 100%|██████████| 404/404 [00:39<00:00, 10.28it/s]\n",
            "                 Class     Images  Instances      Box(P          R      mAP50  mAP50-95): 100%|██████████| 18/18 [00:02<00:00,  8.44it/s]"
          ]
        },
        {
          "output_type": "stream",
          "name": "stdout",
          "text": [
            "                   all        576        400      0.935      0.907      0.943      0.737\n"
          ]
        },
        {
          "output_type": "stream",
          "name": "stderr",
          "text": [
            "\n"
          ]
        },
        {
          "output_type": "stream",
          "name": "stdout",
          "text": [
            "\n",
            "      Epoch    GPU_mem   box_loss   cls_loss   dfl_loss  Instances       Size\n"
          ]
        },
        {
          "output_type": "stream",
          "name": "stderr",
          "text": [
            "      54/75      2.68G     0.8878     0.8488      1.321         12        640: 100%|██████████| 404/404 [00:39<00:00, 10.32it/s]\n",
            "                 Class     Images  Instances      Box(P          R      mAP50  mAP50-95): 100%|██████████| 18/18 [00:02<00:00,  8.97it/s]"
          ]
        },
        {
          "output_type": "stream",
          "name": "stdout",
          "text": [
            "                   all        576        400      0.937      0.906      0.943      0.731\n"
          ]
        },
        {
          "output_type": "stream",
          "name": "stderr",
          "text": [
            "\n"
          ]
        },
        {
          "output_type": "stream",
          "name": "stdout",
          "text": [
            "\n",
            "      Epoch    GPU_mem   box_loss   cls_loss   dfl_loss  Instances       Size\n"
          ]
        },
        {
          "output_type": "stream",
          "name": "stderr",
          "text": [
            "      55/75      2.68G     0.8866     0.8351      1.311         14        640: 100%|██████████| 404/404 [00:39<00:00, 10.25it/s]\n",
            "                 Class     Images  Instances      Box(P          R      mAP50  mAP50-95): 100%|██████████| 18/18 [00:01<00:00,  9.43it/s]"
          ]
        },
        {
          "output_type": "stream",
          "name": "stdout",
          "text": [
            "                   all        576        400      0.946      0.886      0.947      0.742\n"
          ]
        },
        {
          "output_type": "stream",
          "name": "stderr",
          "text": [
            "\n"
          ]
        },
        {
          "output_type": "stream",
          "name": "stdout",
          "text": [
            "\n",
            "      Epoch    GPU_mem   box_loss   cls_loss   dfl_loss  Instances       Size\n"
          ]
        },
        {
          "output_type": "stream",
          "name": "stderr",
          "text": [
            "      56/75      2.68G     0.8901     0.8301      1.319          3        640: 100%|██████████| 404/404 [00:39<00:00, 10.33it/s]\n",
            "                 Class     Images  Instances      Box(P          R      mAP50  mAP50-95): 100%|██████████| 18/18 [00:02<00:00,  8.81it/s]"
          ]
        },
        {
          "output_type": "stream",
          "name": "stdout",
          "text": [
            "                   all        576        400       0.94      0.909      0.946      0.747\n"
          ]
        },
        {
          "output_type": "stream",
          "name": "stderr",
          "text": [
            "\n"
          ]
        },
        {
          "output_type": "stream",
          "name": "stdout",
          "text": [
            "\n",
            "      Epoch    GPU_mem   box_loss   cls_loss   dfl_loss  Instances       Size\n"
          ]
        },
        {
          "output_type": "stream",
          "name": "stderr",
          "text": [
            "      57/75      2.68G     0.8761     0.8199       1.31          9        640: 100%|██████████| 404/404 [00:39<00:00, 10.35it/s]\n",
            "                 Class     Images  Instances      Box(P          R      mAP50  mAP50-95): 100%|██████████| 18/18 [00:01<00:00,  9.18it/s]"
          ]
        },
        {
          "output_type": "stream",
          "name": "stdout",
          "text": [
            "                   all        576        400      0.927      0.918      0.947      0.744\n"
          ]
        },
        {
          "output_type": "stream",
          "name": "stderr",
          "text": [
            "\n"
          ]
        },
        {
          "output_type": "stream",
          "name": "stdout",
          "text": [
            "\n",
            "      Epoch    GPU_mem   box_loss   cls_loss   dfl_loss  Instances       Size\n"
          ]
        },
        {
          "output_type": "stream",
          "name": "stderr",
          "text": [
            "      58/75      2.68G     0.8778     0.8073      1.307          9        640: 100%|██████████| 404/404 [00:38<00:00, 10.37it/s]\n",
            "                 Class     Images  Instances      Box(P          R      mAP50  mAP50-95): 100%|██████████| 18/18 [00:01<00:00,  9.50it/s]"
          ]
        },
        {
          "output_type": "stream",
          "name": "stdout",
          "text": [
            "                   all        576        400      0.941       0.92      0.947      0.749\n"
          ]
        },
        {
          "output_type": "stream",
          "name": "stderr",
          "text": [
            "\n"
          ]
        },
        {
          "output_type": "stream",
          "name": "stdout",
          "text": [
            "\n",
            "      Epoch    GPU_mem   box_loss   cls_loss   dfl_loss  Instances       Size\n"
          ]
        },
        {
          "output_type": "stream",
          "name": "stderr",
          "text": [
            "      59/75      2.68G     0.8654     0.8098      1.303         11        640: 100%|██████████| 404/404 [00:39<00:00, 10.31it/s]\n",
            "                 Class     Images  Instances      Box(P          R      mAP50  mAP50-95): 100%|██████████| 18/18 [00:01<00:00,  9.11it/s]"
          ]
        },
        {
          "output_type": "stream",
          "name": "stdout",
          "text": [
            "                   all        576        400      0.954      0.924      0.949      0.752\n"
          ]
        },
        {
          "output_type": "stream",
          "name": "stderr",
          "text": [
            "\n"
          ]
        },
        {
          "output_type": "stream",
          "name": "stdout",
          "text": [
            "\n",
            "      Epoch    GPU_mem   box_loss   cls_loss   dfl_loss  Instances       Size\n"
          ]
        },
        {
          "output_type": "stream",
          "name": "stderr",
          "text": [
            "      60/75      2.68G     0.8476     0.7892      1.284         12        640: 100%|██████████| 404/404 [00:39<00:00, 10.31it/s]\n",
            "                 Class     Images  Instances      Box(P          R      mAP50  mAP50-95): 100%|██████████| 18/18 [00:02<00:00,  8.75it/s]"
          ]
        },
        {
          "output_type": "stream",
          "name": "stdout",
          "text": [
            "                   all        576        400      0.933      0.917      0.951      0.749\n"
          ]
        },
        {
          "output_type": "stream",
          "name": "stderr",
          "text": [
            "\n"
          ]
        },
        {
          "output_type": "stream",
          "name": "stdout",
          "text": [
            "\n",
            "      Epoch    GPU_mem   box_loss   cls_loss   dfl_loss  Instances       Size\n"
          ]
        },
        {
          "output_type": "stream",
          "name": "stderr",
          "text": [
            "      61/75      2.68G     0.8469     0.7774      1.284          7        640: 100%|██████████| 404/404 [00:39<00:00, 10.33it/s]\n",
            "                 Class     Images  Instances      Box(P          R      mAP50  mAP50-95): 100%|██████████| 18/18 [00:01<00:00,  9.45it/s]"
          ]
        },
        {
          "output_type": "stream",
          "name": "stdout",
          "text": [
            "                   all        576        400      0.934      0.917      0.946      0.744\n"
          ]
        },
        {
          "output_type": "stream",
          "name": "stderr",
          "text": [
            "\n"
          ]
        },
        {
          "output_type": "stream",
          "name": "stdout",
          "text": [
            "\n",
            "      Epoch    GPU_mem   box_loss   cls_loss   dfl_loss  Instances       Size\n"
          ]
        },
        {
          "output_type": "stream",
          "name": "stderr",
          "text": [
            "      62/75      2.68G      0.838     0.7697      1.275          7        640: 100%|██████████| 404/404 [00:39<00:00, 10.35it/s]\n",
            "                 Class     Images  Instances      Box(P          R      mAP50  mAP50-95): 100%|██████████| 18/18 [00:01<00:00,  9.21it/s]"
          ]
        },
        {
          "output_type": "stream",
          "name": "stdout",
          "text": [
            "                   all        576        400      0.929      0.914      0.946      0.749\n"
          ]
        },
        {
          "output_type": "stream",
          "name": "stderr",
          "text": [
            "\n"
          ]
        },
        {
          "output_type": "stream",
          "name": "stdout",
          "text": [
            "\n",
            "      Epoch    GPU_mem   box_loss   cls_loss   dfl_loss  Instances       Size\n"
          ]
        },
        {
          "output_type": "stream",
          "name": "stderr",
          "text": [
            "      63/75      2.68G     0.8384     0.7574      1.272         10        640: 100%|██████████| 404/404 [00:39<00:00, 10.35it/s]\n",
            "                 Class     Images  Instances      Box(P          R      mAP50  mAP50-95): 100%|██████████| 18/18 [00:02<00:00,  8.06it/s]"
          ]
        },
        {
          "output_type": "stream",
          "name": "stdout",
          "text": [
            "                   all        576        400      0.945      0.901      0.946      0.749\n"
          ]
        },
        {
          "output_type": "stream",
          "name": "stderr",
          "text": [
            "\n"
          ]
        },
        {
          "output_type": "stream",
          "name": "stdout",
          "text": [
            "\n",
            "      Epoch    GPU_mem   box_loss   cls_loss   dfl_loss  Instances       Size\n"
          ]
        },
        {
          "output_type": "stream",
          "name": "stderr",
          "text": [
            "      64/75      2.68G     0.8354     0.7713      1.273          9        640: 100%|██████████| 404/404 [00:39<00:00, 10.23it/s]\n",
            "                 Class     Images  Instances      Box(P          R      mAP50  mAP50-95): 100%|██████████| 18/18 [00:01<00:00,  9.51it/s]"
          ]
        },
        {
          "output_type": "stream",
          "name": "stdout",
          "text": [
            "                   all        576        400      0.941      0.901      0.943      0.743\n"
          ]
        },
        {
          "output_type": "stream",
          "name": "stderr",
          "text": [
            "\n"
          ]
        },
        {
          "output_type": "stream",
          "name": "stdout",
          "text": [
            "\n",
            "      Epoch    GPU_mem   box_loss   cls_loss   dfl_loss  Instances       Size\n"
          ]
        },
        {
          "output_type": "stream",
          "name": "stderr",
          "text": [
            "      65/75      2.68G     0.8244     0.7428      1.264         11        640: 100%|██████████| 404/404 [00:39<00:00, 10.35it/s]\n",
            "                 Class     Images  Instances      Box(P          R      mAP50  mAP50-95): 100%|██████████| 18/18 [00:02<00:00,  8.99it/s]\n"
          ]
        },
        {
          "output_type": "stream",
          "name": "stdout",
          "text": [
            "                   all        576        400      0.932      0.914      0.947       0.75\n",
            "Closing dataloader mosaic\n",
            "\u001b[34m\u001b[1malbumentations: \u001b[0mBlur(p=0.01, blur_limit=(3, 7)), MedianBlur(p=0.01, blur_limit=(3, 7)), ToGray(p=0.01, num_output_channels=3, method='weighted_average'), CLAHE(p=0.01, clip_limit=(1.0, 4.0), tile_grid_size=(8, 8))\n",
            "\n",
            "      Epoch    GPU_mem   box_loss   cls_loss   dfl_loss  Instances       Size\n"
          ]
        },
        {
          "output_type": "stream",
          "name": "stderr",
          "text": [
            "      66/75      2.68G     0.6758     0.4705      1.136          5        640: 100%|██████████| 404/404 [00:39<00:00, 10.26it/s]\n",
            "                 Class     Images  Instances      Box(P          R      mAP50  mAP50-95): 100%|██████████| 18/18 [00:02<00:00,  8.76it/s]"
          ]
        },
        {
          "output_type": "stream",
          "name": "stdout",
          "text": [
            "                   all        576        400      0.942      0.911      0.948      0.752\n"
          ]
        },
        {
          "output_type": "stream",
          "name": "stderr",
          "text": [
            "\n"
          ]
        },
        {
          "output_type": "stream",
          "name": "stdout",
          "text": [
            "\n",
            "      Epoch    GPU_mem   box_loss   cls_loss   dfl_loss  Instances       Size\n"
          ]
        },
        {
          "output_type": "stream",
          "name": "stderr",
          "text": [
            "      67/75      2.68G     0.6573     0.4486      1.126          7        640: 100%|██████████| 404/404 [00:38<00:00, 10.56it/s]\n",
            "                 Class     Images  Instances      Box(P          R      mAP50  mAP50-95): 100%|██████████| 18/18 [00:01<00:00,  9.35it/s]\n"
          ]
        },
        {
          "output_type": "stream",
          "name": "stdout",
          "text": [
            "                   all        576        400      0.935       0.91      0.948      0.756\n",
            "\n",
            "      Epoch    GPU_mem   box_loss   cls_loss   dfl_loss  Instances       Size\n"
          ]
        },
        {
          "output_type": "stream",
          "name": "stderr",
          "text": [
            "      68/75      2.68G     0.6517     0.4491      1.117          2        640: 100%|██████████| 404/404 [00:38<00:00, 10.48it/s]\n",
            "                 Class     Images  Instances      Box(P          R      mAP50  mAP50-95): 100%|██████████| 18/18 [00:01<00:00,  9.49it/s]"
          ]
        },
        {
          "output_type": "stream",
          "name": "stdout",
          "text": [
            "                   all        576        400      0.937      0.906      0.945      0.748\n"
          ]
        },
        {
          "output_type": "stream",
          "name": "stderr",
          "text": [
            "\n"
          ]
        },
        {
          "output_type": "stream",
          "name": "stdout",
          "text": [
            "\n",
            "      Epoch    GPU_mem   box_loss   cls_loss   dfl_loss  Instances       Size\n"
          ]
        },
        {
          "output_type": "stream",
          "name": "stderr",
          "text": [
            "      69/75      2.68G     0.6399     0.4339      1.111          6        640: 100%|██████████| 404/404 [00:38<00:00, 10.55it/s]\n",
            "                 Class     Images  Instances      Box(P          R      mAP50  mAP50-95): 100%|██████████| 18/18 [00:01<00:00,  9.26it/s]"
          ]
        },
        {
          "output_type": "stream",
          "name": "stdout",
          "text": [
            "                   all        576        400      0.952      0.905      0.948      0.754\n"
          ]
        },
        {
          "output_type": "stream",
          "name": "stderr",
          "text": [
            "\n"
          ]
        },
        {
          "output_type": "stream",
          "name": "stdout",
          "text": [
            "\n",
            "      Epoch    GPU_mem   box_loss   cls_loss   dfl_loss  Instances       Size\n"
          ]
        },
        {
          "output_type": "stream",
          "name": "stderr",
          "text": [
            "      70/75      2.68G     0.6326     0.4236      1.099          5        640: 100%|██████████| 404/404 [00:38<00:00, 10.54it/s]\n",
            "                 Class     Images  Instances      Box(P          R      mAP50  mAP50-95): 100%|██████████| 18/18 [00:02<00:00,  8.79it/s]"
          ]
        },
        {
          "output_type": "stream",
          "name": "stdout",
          "text": [
            "                   all        576        400      0.942      0.913      0.946      0.756\n"
          ]
        },
        {
          "output_type": "stream",
          "name": "stderr",
          "text": [
            "\n"
          ]
        },
        {
          "output_type": "stream",
          "name": "stdout",
          "text": [
            "\n",
            "      Epoch    GPU_mem   box_loss   cls_loss   dfl_loss  Instances       Size\n"
          ]
        },
        {
          "output_type": "stream",
          "name": "stderr",
          "text": [
            "      71/75      2.68G     0.6121     0.4143      1.086          6        640: 100%|██████████| 404/404 [00:38<00:00, 10.54it/s]\n",
            "                 Class     Images  Instances      Box(P          R      mAP50  mAP50-95): 100%|██████████| 18/18 [00:01<00:00,  9.31it/s]"
          ]
        },
        {
          "output_type": "stream",
          "name": "stdout",
          "text": [
            "                   all        576        400      0.951      0.919      0.945      0.756\n"
          ]
        },
        {
          "output_type": "stream",
          "name": "stderr",
          "text": [
            "\n"
          ]
        },
        {
          "output_type": "stream",
          "name": "stdout",
          "text": [
            "\n",
            "      Epoch    GPU_mem   box_loss   cls_loss   dfl_loss  Instances       Size\n"
          ]
        },
        {
          "output_type": "stream",
          "name": "stderr",
          "text": [
            "      72/75      2.68G     0.6098     0.4108      1.091          6        640: 100%|██████████| 404/404 [00:38<00:00, 10.60it/s]\n",
            "                 Class     Images  Instances      Box(P          R      mAP50  mAP50-95): 100%|██████████| 18/18 [00:01<00:00,  9.38it/s]"
          ]
        },
        {
          "output_type": "stream",
          "name": "stdout",
          "text": [
            "                   all        576        400      0.948      0.922      0.947      0.757\n"
          ]
        },
        {
          "output_type": "stream",
          "name": "stderr",
          "text": [
            "\n"
          ]
        },
        {
          "output_type": "stream",
          "name": "stdout",
          "text": [
            "\n",
            "      Epoch    GPU_mem   box_loss   cls_loss   dfl_loss  Instances       Size\n"
          ]
        },
        {
          "output_type": "stream",
          "name": "stderr",
          "text": [
            "      73/75      2.68G     0.6066     0.4077      1.085          5        640: 100%|██████████| 404/404 [00:38<00:00, 10.57it/s]\n",
            "                 Class     Images  Instances      Box(P          R      mAP50  mAP50-95): 100%|██████████| 18/18 [00:01<00:00,  9.16it/s]"
          ]
        },
        {
          "output_type": "stream",
          "name": "stdout",
          "text": [
            "                   all        576        400      0.953      0.917       0.95       0.76\n"
          ]
        },
        {
          "output_type": "stream",
          "name": "stderr",
          "text": [
            "\n"
          ]
        },
        {
          "output_type": "stream",
          "name": "stdout",
          "text": [
            "\n",
            "      Epoch    GPU_mem   box_loss   cls_loss   dfl_loss  Instances       Size\n"
          ]
        },
        {
          "output_type": "stream",
          "name": "stderr",
          "text": [
            "      74/75      2.68G     0.6028     0.3995      1.078          2        640: 100%|██████████| 404/404 [00:38<00:00, 10.54it/s]\n",
            "                 Class     Images  Instances      Box(P          R      mAP50  mAP50-95): 100%|██████████| 18/18 [00:01<00:00,  9.34it/s]"
          ]
        },
        {
          "output_type": "stream",
          "name": "stdout",
          "text": [
            "                   all        576        400      0.949      0.907       0.95      0.759\n"
          ]
        },
        {
          "output_type": "stream",
          "name": "stderr",
          "text": [
            "\n"
          ]
        },
        {
          "output_type": "stream",
          "name": "stdout",
          "text": [
            "\n",
            "      Epoch    GPU_mem   box_loss   cls_loss   dfl_loss  Instances       Size\n"
          ]
        },
        {
          "output_type": "stream",
          "name": "stderr",
          "text": [
            "      75/75      2.68G     0.5919     0.3929      1.071          5        640: 100%|██████████| 404/404 [00:38<00:00, 10.52it/s]\n",
            "                 Class     Images  Instances      Box(P          R      mAP50  mAP50-95): 100%|██████████| 18/18 [00:02<00:00,  8.75it/s]"
          ]
        },
        {
          "output_type": "stream",
          "name": "stdout",
          "text": [
            "                   all        576        400       0.94       0.91      0.949      0.761\n"
          ]
        },
        {
          "output_type": "stream",
          "name": "stderr",
          "text": [
            "\n"
          ]
        },
        {
          "output_type": "stream",
          "name": "stdout",
          "text": [
            "\n",
            "75 epochs completed in 0.886 hours.\n",
            "Optimizer stripped from runs/detect/train/weights/last.pt, 6.3MB\n",
            "Optimizer stripped from runs/detect/train/weights/best.pt, 6.3MB\n",
            "\n",
            "Validating runs/detect/train/weights/best.pt...\n",
            "Ultralytics 8.3.104 🚀 Python-3.11.11 torch-2.6.0+cu124 CUDA:0 (NVIDIA A100-SXM4-40GB, 40507MiB)\n",
            "YOLOv8n summary (fused): 72 layers, 3,006,233 parameters, 0 gradients, 8.1 GFLOPs\n"
          ]
        },
        {
          "output_type": "stream",
          "name": "stderr",
          "text": [
            "                 Class     Images  Instances      Box(P          R      mAP50  mAP50-95): 100%|██████████| 18/18 [00:02<00:00,  6.96it/s]\n"
          ]
        },
        {
          "output_type": "stream",
          "name": "stdout",
          "text": [
            "                   all        576        400       0.94       0.91      0.949      0.761\n",
            "                 Paper        132        139      0.934      0.913      0.956      0.773\n",
            "                  Rock        121        141       0.93      0.943       0.95      0.756\n",
            "              Scissors        116        120      0.957      0.875      0.942      0.754\n",
            "Speed: 0.1ms preprocess, 0.5ms inference, 0.0ms loss, 1.2ms postprocess per image\n",
            "Results saved to \u001b[1mruns/detect/train\u001b[0m\n"
          ]
        }
      ]
    },
    {
      "cell_type": "markdown",
      "source": [
        "## Access Model Output"
      ],
      "metadata": {
        "id": "4Sl08E8GufIi"
      }
    },
    {
      "cell_type": "code",
      "source": [
        "results = model.predict(source=os.path.join(ROOT_DIR, \"test/images\"), save=True)"
      ],
      "metadata": {
        "id": "3P33ZjL_u2Ef",
        "colab": {
          "base_uri": "https://localhost:8080/"
        },
        "outputId": "5123ff69-7209-4f7a-ac31-0976eb85f833"
      },
      "execution_count": 7,
      "outputs": [
        {
          "output_type": "stream",
          "name": "stdout",
          "text": [
            "\n",
            "image 1/304 /content/gdrive/My Drive/Rock_Paper_Scissors/Model_Files/test/images/10e0gvm_jpg.rf.3b68a834fab647f30a57fc3ea92d4cd2.jpg: 640x640 (no detections), 8.3ms\n",
            "image 2/304 /content/gdrive/My Drive/Rock_Paper_Scissors/Model_Files/test/images/15208484cellblock_jpg.rf.95cbda1e169a66105fbf2aa22959a73b.jpg: 640x640 (no detections), 8.2ms\n",
            "image 3/304 /content/gdrive/My Drive/Rock_Paper_Scissors/Model_Files/test/images/19171_298_298_1_0_jpg.rf.0024dfb25d7b5a13a78e94fca47ef004.jpg: 640x640 (no detections), 8.0ms\n",
            "image 4/304 /content/gdrive/My Drive/Rock_Paper_Scissors/Model_Files/test/images/20061004021831_jpg.rf.8667d8aa5599deb901289c024eed4313.jpg: 640x640 (no detections), 8.2ms\n",
            "image 5/304 /content/gdrive/My Drive/Rock_Paper_Scissors/Model_Files/test/images/20220216_221550_jpg.rf.02a071a383151953fcf8671fc7fca3af.jpg: 640x640 1 Scissors, 8.5ms\n",
            "image 6/304 /content/gdrive/My Drive/Rock_Paper_Scissors/Model_Files/test/images/20220216_221819_jpg.rf.295ebb583293f91f74e1700f0ab0639a.jpg: 640x640 1 Rock, 8.0ms\n",
            "image 7/304 /content/gdrive/My Drive/Rock_Paper_Scissors/Model_Files/test/images/20220216_221856_jpg.rf.c551cb3856f480cba36d6aa58e3300cd.jpg: 640x640 1 Rock, 8.3ms\n",
            "image 8/304 /content/gdrive/My Drive/Rock_Paper_Scissors/Model_Files/test/images/20220216_222153_jpg.rf.a2bd5f6dd7833d67c9cb2e1d9ca298cc.jpg: 640x640 1 Paper, 1 Scissors, 7.7ms\n",
            "image 9/304 /content/gdrive/My Drive/Rock_Paper_Scissors/Model_Files/test/images/20220216_222607_jpg.rf.2d3554cdf3b954df7e481bf1b22a1e47.jpg: 640x640 1 Rock, 7.7ms\n",
            "image 10/304 /content/gdrive/My Drive/Rock_Paper_Scissors/Model_Files/test/images/CARDS_LIVINGROOM_B_T_frame_0124_jpg.rf.9950e0cf7efb81973a65899429e2d42c.jpg: 640x640 (no detections), 7.8ms\n",
            "image 11/304 /content/gdrive/My Drive/Rock_Paper_Scissors/Model_Files/test/images/CARDS_OFFICE_S_B_frame_0057_jpg.rf.63d2ab9abbc8a04ca7731f44722ef94e.jpg: 640x640 1 Paper, 8.1ms\n",
            "image 12/304 /content/gdrive/My Drive/Rock_Paper_Scissors/Model_Files/test/images/CARDS_OFFICE_T_H_frame_0223_jpg.rf.3a4ae068939baaf6572c3ef4b88b4969.jpg: 640x640 (no detections), 7.9ms\n",
            "image 13/304 /content/gdrive/My Drive/Rock_Paper_Scissors/Model_Files/test/images/CHESS_COURTYARD_B_T_frame_1110_jpg.rf.7ea7ef51dbcf36a70d5df4d38f81a8c4.jpg: 640x640 (no detections), 7.9ms\n",
            "image 14/304 /content/gdrive/My Drive/Rock_Paper_Scissors/Model_Files/test/images/CHESS_OFFICE_S_B_frame_1971_jpg.rf.a5a3eecbd23b190bc2a8a490f5a759cf.jpg: 640x640 (no detections), 7.9ms\n",
            "image 15/304 /content/gdrive/My Drive/Rock_Paper_Scissors/Model_Files/test/images/ComfortSuites_MEETINGM_jpg.rf.7df474edf604511bd9e2c941b5b488d9.jpg: 640x640 (no detections), 7.4ms\n",
            "image 16/304 /content/gdrive/My Drive/Rock_Paper_Scissors/Model_Files/test/images/Cool-Video-of-Ocean-Fish-Swimming_mp4-16_jpg.rf.3384a3151cadacb3612efe53b8cac2aa.jpg: 640x640 (no detections), 9.4ms\n",
            "image 17/304 /content/gdrive/My Drive/Rock_Paper_Scissors/Model_Files/test/images/Cool-Video-of-Ocean-Fish-Swimming_mp4-18_jpg.rf.1d10e523f1e57a1418ddb9b104a99c82.jpg: 640x640 (no detections), 7.7ms\n",
            "image 18/304 /content/gdrive/My Drive/Rock_Paper_Scissors/Model_Files/test/images/Cool-Video-of-Ocean-Fish-Swimming_mp4-4_jpg.rf.24c9b38caee8612c879e110396cbe2ff.jpg: 640x640 (no detections), 8.0ms\n",
            "image 19/304 /content/gdrive/My Drive/Rock_Paper_Scissors/Model_Files/test/images/IMG-2728_JPG_jpg.rf.23ac958eb0ec053b18e971bbf460fadb.jpg: 640x640 (no detections), 7.9ms\n",
            "image 20/304 /content/gdrive/My Drive/Rock_Paper_Scissors/Model_Files/test/images/IMG_5567_mp4-108_jpg.rf.2271a32fd2956bb7be9c2f53eeb7e5f6.jpg: 640x640 1 Scissors, 7.5ms\n",
            "image 21/304 /content/gdrive/My Drive/Rock_Paper_Scissors/Model_Files/test/images/IMG_5567_mp4-119_jpg.rf.2f38334928cd4739e1bc77f07c696546.jpg: 640x640 (no detections), 8.1ms\n",
            "image 22/304 /content/gdrive/My Drive/Rock_Paper_Scissors/Model_Files/test/images/IMG_5567_mp4-122_jpg.rf.0e2628bd614df82765fce9324fe3a58c.jpg: 640x640 (no detections), 7.9ms\n",
            "image 23/304 /content/gdrive/My Drive/Rock_Paper_Scissors/Model_Files/test/images/IMG_5567_mp4-134_jpg.rf.963da6ff86ed50acb07b6c2ae70e32b1.jpg: 640x640 1 Rock, 7.6ms\n",
            "image 24/304 /content/gdrive/My Drive/Rock_Paper_Scissors/Model_Files/test/images/IMG_5567_mp4-148_jpg.rf.114bb58b3a26f84baec9d8f32bc9604e.jpg: 640x640 1 Scissors, 7.5ms\n",
            "image 25/304 /content/gdrive/My Drive/Rock_Paper_Scissors/Model_Files/test/images/IMG_5567_mp4-151_jpg.rf.7907a251976a32625438278b9380e2cb.jpg: 640x640 1 Scissors, 7.5ms\n",
            "image 26/304 /content/gdrive/My Drive/Rock_Paper_Scissors/Model_Files/test/images/IMG_5567_mp4-155_jpg.rf.b25e6e8a7bc0bd23dfe68e8200b2b971.jpg: 640x640 (no detections), 7.5ms\n",
            "image 27/304 /content/gdrive/My Drive/Rock_Paper_Scissors/Model_Files/test/images/IMG_5567_mp4-160_jpg.rf.dac9f07b7d5b970ba5c39ae832b8ecf4.jpg: 640x640 1 Paper, 8.1ms\n",
            "image 28/304 /content/gdrive/My Drive/Rock_Paper_Scissors/Model_Files/test/images/IMG_5567_mp4-166_jpg.rf.8a46fe3296e8b49c846022f3f610e5bb.jpg: 640x640 1 Paper, 9.2ms\n",
            "image 29/304 /content/gdrive/My Drive/Rock_Paper_Scissors/Model_Files/test/images/IMG_5567_mp4-16_jpg.rf.d32a3cb377e3bc260a0a841e47831a4a.jpg: 640x640 1 Scissors, 8.2ms\n",
            "image 30/304 /content/gdrive/My Drive/Rock_Paper_Scissors/Model_Files/test/images/IMG_5567_mp4-171_jpg.rf.5523c97f48e74fe1431c1f01be79265b.jpg: 640x640 1 Paper, 7.6ms\n",
            "image 31/304 /content/gdrive/My Drive/Rock_Paper_Scissors/Model_Files/test/images/IMG_5567_mp4-183_jpg.rf.92060b56a1cba3db884f4f8b220f87df.jpg: 640x640 (no detections), 7.5ms\n",
            "image 32/304 /content/gdrive/My Drive/Rock_Paper_Scissors/Model_Files/test/images/IMG_5567_mp4-1_jpg.rf.3e33ee3bf73d16e37b19506db8a1d100.jpg: 640x640 (no detections), 8.4ms\n",
            "image 33/304 /content/gdrive/My Drive/Rock_Paper_Scissors/Model_Files/test/images/IMG_5567_mp4-24_jpg.rf.ee8c385fc11d4bf2f85267e0d680b0d9.jpg: 640x640 1 Rock, 9.2ms\n",
            "image 34/304 /content/gdrive/My Drive/Rock_Paper_Scissors/Model_Files/test/images/IMG_5567_mp4-47_jpg.rf.61520fe3d72cefd48583258e645419bc.jpg: 640x640 (no detections), 7.3ms\n",
            "image 35/304 /content/gdrive/My Drive/Rock_Paper_Scissors/Model_Files/test/images/IMG_5567_mp4-56_jpg.rf.7271d3b836d6215c40224f5bf5a8ad61.jpg: 640x640 1 Scissors, 7.4ms\n",
            "image 36/304 /content/gdrive/My Drive/Rock_Paper_Scissors/Model_Files/test/images/IMG_5567_mp4-58_jpg.rf.c801fb264502df84d2a0a7582584a113.jpg: 640x640 1 Scissors, 7.6ms\n",
            "image 37/304 /content/gdrive/My Drive/Rock_Paper_Scissors/Model_Files/test/images/IMG_5567_mp4-64_jpg.rf.d852ee0cc2066350d9598d82be866e7c.jpg: 640x640 1 Scissors, 7.4ms\n",
            "image 38/304 /content/gdrive/My Drive/Rock_Paper_Scissors/Model_Files/test/images/IMG_5567_mp4-78_jpg.rf.2e4bf0323dda4f836bb5cb47157fcf71.jpg: 640x640 1 Paper, 7.5ms\n",
            "image 39/304 /content/gdrive/My Drive/Rock_Paper_Scissors/Model_Files/test/images/IMG_5567_mp4-80_jpg.rf.66d407bba2be74696d891711bcd1d8c9.jpg: 640x640 1 Paper, 7.3ms\n",
            "image 40/304 /content/gdrive/My Drive/Rock_Paper_Scissors/Model_Files/test/images/IMG_5567_mp4-98_jpg.rf.072da12c4f193d065889c22751c5317c.jpg: 640x640 (no detections), 7.3ms\n",
            "image 41/304 /content/gdrive/My Drive/Rock_Paper_Scissors/Model_Files/test/images/IMG_5636_MOV-17_jpg.rf.991f22663e48d08941126326b01eb058.jpg: 640x640 1 Paper, 8.0ms\n",
            "image 42/304 /content/gdrive/My Drive/Rock_Paper_Scissors/Model_Files/test/images/IMG_5636_MOV-31_jpg.rf.372f95db69cc8886d4d02032d4ebf34e.jpg: 640x640 1 Rock, 7.5ms\n",
            "image 43/304 /content/gdrive/My Drive/Rock_Paper_Scissors/Model_Files/test/images/IMG_5636_MOV-32_jpg.rf.dce699cdb84ff3b641f7d7a6a201fb7f.jpg: 640x640 1 Rock, 8.0ms\n",
            "image 44/304 /content/gdrive/My Drive/Rock_Paper_Scissors/Model_Files/test/images/IMG_5636_MOV-35_jpg.rf.d245cd780f83277f25726d00c42299ab.jpg: 640x640 1 Scissors, 8.5ms\n",
            "image 45/304 /content/gdrive/My Drive/Rock_Paper_Scissors/Model_Files/test/images/IMG_5636_MOV-38_jpg.rf.d7be4af05520f529b708f49fd21b5dc7.jpg: 640x640 1 Scissors, 7.8ms\n",
            "image 46/304 /content/gdrive/My Drive/Rock_Paper_Scissors/Model_Files/test/images/IMG_5636_MOV-3_jpg.rf.d455956a1f5c5ab84ffa1f28fa36ff65.jpg: 640x640 1 Paper, 7.5ms\n",
            "image 47/304 /content/gdrive/My Drive/Rock_Paper_Scissors/Model_Files/test/images/IMG_5636_MOV-40_jpg.rf.3b0f4c04864723de576c09017e995293.jpg: 640x640 1 Scissors, 7.5ms\n",
            "image 48/304 /content/gdrive/My Drive/Rock_Paper_Scissors/Model_Files/test/images/IMG_5636_MOV-55_jpg.rf.a75be1f09855b68db30ab5335ec7125b.jpg: 640x640 1 Rock, 7.6ms\n",
            "image 49/304 /content/gdrive/My Drive/Rock_Paper_Scissors/Model_Files/test/images/IMG_5636_MOV-80_jpg.rf.57a447e1f1e3a5d994eb882d9dc1172d.jpg: 640x640 (no detections), 7.6ms\n",
            "image 50/304 /content/gdrive/My Drive/Rock_Paper_Scissors/Model_Files/test/images/IMG_7043_MOV-107_jpg.rf.b19f7859f30f08a85fdd015b594e750d.jpg: 640x640 (no detections), 7.6ms\n",
            "image 51/304 /content/gdrive/My Drive/Rock_Paper_Scissors/Model_Files/test/images/IMG_7043_MOV-112_jpg.rf.5fa1355476dfc949a08c471fe3394e11.jpg: 640x640 1 Paper, 7.6ms\n",
            "image 52/304 /content/gdrive/My Drive/Rock_Paper_Scissors/Model_Files/test/images/IMG_7043_MOV-139_jpg.rf.b6b23a62277aa37ccc59065c897979a5.jpg: 640x640 1 Paper, 7.7ms\n",
            "image 53/304 /content/gdrive/My Drive/Rock_Paper_Scissors/Model_Files/test/images/IMG_7043_MOV-13_jpg.rf.357623d0c7642153a6890a9650ce4e3e.jpg: 640x640 1 Scissors, 7.8ms\n",
            "image 54/304 /content/gdrive/My Drive/Rock_Paper_Scissors/Model_Files/test/images/IMG_7043_MOV-144_jpg.rf.a51a81239b9089ad1abd207a1a62e83d.jpg: 640x640 (no detections), 7.6ms\n",
            "image 55/304 /content/gdrive/My Drive/Rock_Paper_Scissors/Model_Files/test/images/IMG_7043_MOV-145_jpg.rf.09cecb6ca13b48599674708861f9e47a.jpg: 640x640 (no detections), 8.1ms\n",
            "image 56/304 /content/gdrive/My Drive/Rock_Paper_Scissors/Model_Files/test/images/IMG_7043_MOV-157_jpg.rf.30eede3e63f2f4b0584c162a0bc96ec0.jpg: 640x640 1 Paper, 7.7ms\n",
            "image 57/304 /content/gdrive/My Drive/Rock_Paper_Scissors/Model_Files/test/images/IMG_7043_MOV-15_jpg.rf.273d7dca247d2d3ba88e5cce4545163d.jpg: 640x640 1 Scissors, 7.7ms\n",
            "image 58/304 /content/gdrive/My Drive/Rock_Paper_Scissors/Model_Files/test/images/IMG_7043_MOV-169_jpg.rf.cd49bbf1ad18b370a058c427a463989a.jpg: 640x640 (no detections), 8.1ms\n",
            "image 59/304 /content/gdrive/My Drive/Rock_Paper_Scissors/Model_Files/test/images/IMG_7043_MOV-16_jpg.rf.3966bc9b069fd8ef804967f4e5135eaf.jpg: 640x640 1 Scissors, 7.9ms\n",
            "image 60/304 /content/gdrive/My Drive/Rock_Paper_Scissors/Model_Files/test/images/IMG_7043_MOV-177_jpg.rf.eb554844ab1f6aca4a93b965884e813b.jpg: 640x640 1 Rock, 7.7ms\n",
            "image 61/304 /content/gdrive/My Drive/Rock_Paper_Scissors/Model_Files/test/images/IMG_7043_MOV-17_jpg.rf.ea3da5a3a11b96609abf166ab74ef448.jpg: 640x640 1 Scissors, 8.1ms\n",
            "image 62/304 /content/gdrive/My Drive/Rock_Paper_Scissors/Model_Files/test/images/IMG_7043_MOV-184_jpg.rf.c889bfea24b933061fe8b3e17669829f.jpg: 640x640 1 Rock, 7.8ms\n",
            "image 63/304 /content/gdrive/My Drive/Rock_Paper_Scissors/Model_Files/test/images/IMG_7043_MOV-18_jpg.rf.a49776cf1eaf613d8f852b143e85caec.jpg: 640x640 1 Scissors, 7.9ms\n",
            "image 64/304 /content/gdrive/My Drive/Rock_Paper_Scissors/Model_Files/test/images/IMG_7043_MOV-195_jpg.rf.f1995411308ce3dd103b615cd693295a.jpg: 640x640 1 Scissors, 7.7ms\n",
            "image 65/304 /content/gdrive/My Drive/Rock_Paper_Scissors/Model_Files/test/images/IMG_7043_MOV-1_jpg.rf.3998de532d2e00e2f0a97fd552b338e6.jpg: 640x640 (no detections), 7.9ms\n",
            "image 66/304 /content/gdrive/My Drive/Rock_Paper_Scissors/Model_Files/test/images/IMG_7043_MOV-26_jpg.rf.3d787069141cab2904f954aa22fe94c0.jpg: 640x640 1 Scissors, 7.8ms\n",
            "image 67/304 /content/gdrive/My Drive/Rock_Paper_Scissors/Model_Files/test/images/IMG_7043_MOV-61_jpg.rf.2d21ad90e68a1e815569828f8fc42b83.jpg: 640x640 (no detections), 7.7ms\n",
            "image 68/304 /content/gdrive/My Drive/Rock_Paper_Scissors/Model_Files/test/images/IMG_7043_MOV-66_jpg.rf.df85eb36076d3c01f38c67d2e791dcaa.jpg: 640x640 (no detections), 7.8ms\n",
            "image 69/304 /content/gdrive/My Drive/Rock_Paper_Scissors/Model_Files/test/images/IMG_7043_MOV-67_jpg.rf.673c5564dd7d387c67502e0b3e9a9ab6.jpg: 640x640 (no detections), 7.8ms\n",
            "image 70/304 /content/gdrive/My Drive/Rock_Paper_Scissors/Model_Files/test/images/IMG_7043_MOV-84_jpg.rf.20901886485a1aa1b9a1f0bcd2a28f3c.jpg: 640x640 1 Rock, 7.7ms\n",
            "image 71/304 /content/gdrive/My Drive/Rock_Paper_Scissors/Model_Files/test/images/IMG_7043_MOV-96_jpg.rf.45c29c1b7497e8dd1cadf768dee741d6.jpg: 640x640 1 Rock, 7.7ms\n",
            "image 72/304 /content/gdrive/My Drive/Rock_Paper_Scissors/Model_Files/test/images/IMG_7077_MOV-106_jpg.rf.70485649471c0d185b71d8061224b4b6.jpg: 640x640 1 Rock, 1 Scissors, 7.6ms\n",
            "image 73/304 /content/gdrive/My Drive/Rock_Paper_Scissors/Model_Files/test/images/IMG_7077_MOV-131_jpg.rf.1c654bd706a1474c95b2d083cb7e497c.jpg: 640x640 (no detections), 7.7ms\n",
            "image 74/304 /content/gdrive/My Drive/Rock_Paper_Scissors/Model_Files/test/images/IMG_7077_MOV-132_jpg.rf.be6fd09da23c5e648a8db251f5f7f8ca.jpg: 640x640 (no detections), 7.4ms\n",
            "image 75/304 /content/gdrive/My Drive/Rock_Paper_Scissors/Model_Files/test/images/IMG_7077_MOV-140_jpg.rf.ee1490b6ffd301843b9e0a8fe986e13a.jpg: 640x640 (no detections), 7.7ms\n",
            "image 76/304 /content/gdrive/My Drive/Rock_Paper_Scissors/Model_Files/test/images/IMG_7077_MOV-142_jpg.rf.43130fe62324f92a8bad3e53833d11f5.jpg: 640x640 (no detections), 7.5ms\n",
            "image 77/304 /content/gdrive/My Drive/Rock_Paper_Scissors/Model_Files/test/images/IMG_7077_MOV-147_jpg.rf.baeda945c38560b08c98dcfbca11a513.jpg: 640x640 (no detections), 7.7ms\n",
            "image 78/304 /content/gdrive/My Drive/Rock_Paper_Scissors/Model_Files/test/images/IMG_7077_MOV-19_jpg.rf.bc707fa7baf2981dd6b2cf4a68613fc8.jpg: 640x640 1 Rock, 1 Scissors, 8.3ms\n",
            "image 79/304 /content/gdrive/My Drive/Rock_Paper_Scissors/Model_Files/test/images/IMG_7077_MOV-20_jpg.rf.5691c9cc997ed097c4e95215ad6426de.jpg: 640x640 2 Rocks, 7.5ms\n",
            "image 80/304 /content/gdrive/My Drive/Rock_Paper_Scissors/Model_Files/test/images/IMG_7077_MOV-32_jpg.rf.91d74f5f9c24078b4a2e6aa852c43c2f.jpg: 640x640 1 Paper, 1 Scissors, 7.5ms\n",
            "image 81/304 /content/gdrive/My Drive/Rock_Paper_Scissors/Model_Files/test/images/IMG_7077_MOV-33_jpg.rf.cd465196b51e6ae745aa5eb93200382b.jpg: 640x640 1 Paper, 1 Scissors, 7.3ms\n",
            "image 82/304 /content/gdrive/My Drive/Rock_Paper_Scissors/Model_Files/test/images/IMG_7077_MOV-7_jpg.rf.b0eb4230274c3b51407b9c1034629203.jpg: 640x640 2 Rocks, 7.3ms\n",
            "image 83/304 /content/gdrive/My Drive/Rock_Paper_Scissors/Model_Files/test/images/IMG_7079_MOV-122_jpg.rf.68d18b962dadd557ab3f4c88fc3ada9d.jpg: 640x640 1 Scissors, 7.4ms\n",
            "image 84/304 /content/gdrive/My Drive/Rock_Paper_Scissors/Model_Files/test/images/IMG_7079_MOV-124_jpg.rf.7c1dd5883f4883684e97c8c50a71603f.jpg: 640x640 1 Paper, 7.9ms\n",
            "image 85/304 /content/gdrive/My Drive/Rock_Paper_Scissors/Model_Files/test/images/IMG_7079_MOV-137_jpg.rf.67ffd0c756d7f2e22a5f15dd5d3120ff.jpg: 640x640 1 Paper, 7.8ms\n",
            "image 86/304 /content/gdrive/My Drive/Rock_Paper_Scissors/Model_Files/test/images/IMG_7079_MOV-149_jpg.rf.3449e202f62c165ceabe8f868a60dec2.jpg: 640x640 1 Scissors, 7.7ms\n",
            "image 87/304 /content/gdrive/My Drive/Rock_Paper_Scissors/Model_Files/test/images/IMG_7079_MOV-20_jpg.rf.e3993679769f543db8bbe74fe9afc903.jpg: 640x640 1 Rock, 7.5ms\n",
            "image 88/304 /content/gdrive/My Drive/Rock_Paper_Scissors/Model_Files/test/images/IMG_7079_MOV-23_jpg.rf.123a8de8c8da646e4a25f1cedcd4c71c.jpg: 640x640 1 Rock, 7.5ms\n",
            "image 89/304 /content/gdrive/My Drive/Rock_Paper_Scissors/Model_Files/test/images/IMG_7079_MOV-40_jpg.rf.7efb1b91025be3decb78d5c0b9c705de.jpg: 640x640 1 Paper, 7.8ms\n",
            "image 90/304 /content/gdrive/My Drive/Rock_Paper_Scissors/Model_Files/test/images/IMG_7079_MOV-52_jpg.rf.38a4c13e463fd2bec504bd496f0f3e56.jpg: 640x640 1 Paper, 8.0ms\n",
            "image 91/304 /content/gdrive/My Drive/Rock_Paper_Scissors/Model_Files/test/images/IMG_7079_MOV-55_jpg.rf.6cc0b375cd6b10947909d8fcd139c20f.jpg: 640x640 1 Paper, 7.5ms\n",
            "image 92/304 /content/gdrive/My Drive/Rock_Paper_Scissors/Model_Files/test/images/IMG_7079_MOV-65_jpg.rf.b3f9a7e4bdfce282cdae7ccaacd65661.jpg: 640x640 1 Paper, 8.2ms\n",
            "image 93/304 /content/gdrive/My Drive/Rock_Paper_Scissors/Model_Files/test/images/JENGA_COURTYARD_S_T_frame_0229_jpg.rf.6af0b06195b3c6dd5ab03311c5f0a53e.jpg: 640x640 (no detections), 7.9ms\n",
            "image 94/304 /content/gdrive/My Drive/Rock_Paper_Scissors/Model_Files/test/images/JENGA_OFFICE_B_S_frame_1353_jpg.rf.aa252c3f825f07d3bbf9d23d13847256.jpg: 640x640 (no detections), 7.8ms\n",
            "image 95/304 /content/gdrive/My Drive/Rock_Paper_Scissors/Model_Files/test/images/JENGA_OFFICE_S_B_frame_1667_jpg.rf.7c1c0a4a7e13a81ff6056f0925816698.jpg: 640x640 (no detections), 7.8ms\n",
            "image 96/304 /content/gdrive/My Drive/Rock_Paper_Scissors/Model_Files/test/images/JWitt-RCP_mp4-17_jpg.rf.d14af488785ef93da8c4be30c5f1dedf.jpg: 640x640 1 Paper, 1 Rock, 7.8ms\n",
            "image 97/304 /content/gdrive/My Drive/Rock_Paper_Scissors/Model_Files/test/images/JWitt-RCP_mp4-18_jpg.rf.d054523013f5920bc8feed994cea2c85.jpg: 640x640 1 Rock, 7.5ms\n",
            "image 98/304 /content/gdrive/My Drive/Rock_Paper_Scissors/Model_Files/test/images/JWitt-RCP_mp4-24_jpg.rf.aff5e1e18f0242e9fba1d1a7cd9c39bf.jpg: 640x640 1 Paper, 7.9ms\n",
            "image 99/304 /content/gdrive/My Drive/Rock_Paper_Scissors/Model_Files/test/images/JWitt-RCP_mp4-2_jpg.rf.08f34c86631e096235a52c67a997e211.jpg: 640x640 (no detections), 7.5ms\n",
            "image 100/304 /content/gdrive/My Drive/Rock_Paper_Scissors/Model_Files/test/images/JWitt-RCP_mp4-38_jpg.rf.d7ad5422c90321f53ccda0a2c3acf343.jpg: 640x640 1 Scissors, 8.5ms\n",
            "image 101/304 /content/gdrive/My Drive/Rock_Paper_Scissors/Model_Files/test/images/JWitt-RCP_mp4-41_jpg.rf.373530a2e9ad204d31526843b5cf95b2.jpg: 640x640 1 Rock, 1 Scissors, 7.8ms\n",
            "image 102/304 /content/gdrive/My Drive/Rock_Paper_Scissors/Model_Files/test/images/JWitt-RCP_mp4-60_jpg.rf.0b87e172f5828cb369eef54dbf0158b9.jpg: 640x640 1 Scissors, 7.4ms\n",
            "image 103/304 /content/gdrive/My Drive/Rock_Paper_Scissors/Model_Files/test/images/JWitt-RCP_mp4-64_jpg.rf.184e0e828afeedb2c24813832d12639b.jpg: 640x640 1 Paper, 7.3ms\n",
            "image 104/304 /content/gdrive/My Drive/Rock_Paper_Scissors/Model_Files/test/images/JWitt-RCP_mp4-70_jpg.rf.ca4e316be45a5d970af916489368e33a.jpg: 640x640 1 Paper, 7.7ms\n",
            "image 105/304 /content/gdrive/My Drive/Rock_Paper_Scissors/Model_Files/test/images/JWitt-RCP_mp4-72_jpg.rf.6876d0f549782db43a9222b79b387f9a.jpg: 640x640 1 Paper, 7.4ms\n",
            "image 106/304 /content/gdrive/My Drive/Rock_Paper_Scissors/Model_Files/test/images/JWitt-RCP_mp4-92_jpg.rf.e76184a6543c9899e452bee9788d493e.jpg: 640x640 1 Paper, 7.7ms\n",
            "image 107/304 /content/gdrive/My Drive/Rock_Paper_Scissors/Model_Files/test/images/PUZZLE_OFFICE_T_S_frame_2187_jpg.rf.4329d3c38449092210d0ab6755c9ee14.jpg: 640x640 (no detections), 7.4ms\n",
            "image 108/304 /content/gdrive/My Drive/Rock_Paper_Scissors/Model_Files/test/images/Photo-on-2-16-22-at-10-19-AM-6_jpg.rf.c27e1ad3b402ec9d02f695cb0c1afe28.jpg: 640x640 1 Rock, 7.4ms\n",
            "image 109/304 /content/gdrive/My Drive/Rock_Paper_Scissors/Model_Files/test/images/Photo-on-2-16-22-at-10-20-AM-16_jpg.rf.77e43b8cc06d204239d719afc63ae511.jpg: 640x640 1 Paper, 7.5ms\n",
            "image 110/304 /content/gdrive/My Drive/Rock_Paper_Scissors/Model_Files/test/images/Photo-on-2-16-22-at-10-20-AM-7_jpg.rf.04c02e8a8898821f6a8e1b3c12192c15.jpg: 640x640 1 Scissors, 7.5ms\n",
            "image 111/304 /content/gdrive/My Drive/Rock_Paper_Scissors/Model_Files/test/images/Photo-on-2-16-22-at-10-20-AM-8_jpg.rf.4ca8cca39999846857087afdf6cbf6cb.jpg: 640x640 1 Scissors, 7.6ms\n",
            "image 112/304 /content/gdrive/My Drive/Rock_Paper_Scissors/Model_Files/test/images/Screen-Recording-2023-03-11-at-9_48_18-PM_mov-113_jpg.rf.9cb9fce04dc260d13687702cebfd4b65.jpg: 640x640 (no detections), 7.6ms\n",
            "image 113/304 /content/gdrive/My Drive/Rock_Paper_Scissors/Model_Files/test/images/Screen-Recording-2023-03-11-at-9_48_18-PM_mov-117_jpg.rf.d56b63383b0bcf3d081960cfcf5039bb.jpg: 640x640 (no detections), 7.6ms\n",
            "image 114/304 /content/gdrive/My Drive/Rock_Paper_Scissors/Model_Files/test/images/Screen-Recording-2023-03-11-at-9_48_18-PM_mov-118_jpg.rf.9f270623fc82abbad06d6dfb83f212c0.jpg: 640x640 (no detections), 8.9ms\n",
            "image 115/304 /content/gdrive/My Drive/Rock_Paper_Scissors/Model_Files/test/images/Screen-Recording-2023-03-11-at-9_48_18-PM_mov-144_jpg.rf.55267b7f91608741bef3280221c47edd.jpg: 640x640 (no detections), 7.4ms\n",
            "image 116/304 /content/gdrive/My Drive/Rock_Paper_Scissors/Model_Files/test/images/Screen-Recording-2023-03-11-at-9_48_18-PM_mov-147_jpg.rf.1f3da63190398b1b04d780e3b0c21242.jpg: 640x640 (no detections), 7.6ms\n",
            "image 117/304 /content/gdrive/My Drive/Rock_Paper_Scissors/Model_Files/test/images/Screen-Recording-2023-03-11-at-9_48_18-PM_mov-157_jpg.rf.ce9ebedbd733609ff3d12a897cabf169.jpg: 640x640 2 Papers, 1 Scissors, 7.6ms\n",
            "image 118/304 /content/gdrive/My Drive/Rock_Paper_Scissors/Model_Files/test/images/Screen-Recording-2023-03-11-at-9_48_18-PM_mov-163_jpg.rf.1f8b6907d3a79b6c2c3549098c93605e.jpg: 640x640 (no detections), 7.9ms\n",
            "image 119/304 /content/gdrive/My Drive/Rock_Paper_Scissors/Model_Files/test/images/Screen-Recording-2023-03-11-at-9_48_18-PM_mov-165_jpg.rf.a1ee9f788cdfe9aa8818ddcfa9e43b29.jpg: 640x640 (no detections), 7.7ms\n",
            "image 120/304 /content/gdrive/My Drive/Rock_Paper_Scissors/Model_Files/test/images/Screen-Recording-2023-03-11-at-9_48_18-PM_mov-186_jpg.rf.7a53246e14e43654dc35d16cf3c1dce4.jpg: 640x640 (no detections), 7.6ms\n",
            "image 121/304 /content/gdrive/My Drive/Rock_Paper_Scissors/Model_Files/test/images/Screen-Recording-2023-03-11-at-9_48_18-PM_mov-245_jpg.rf.bfb5818f0482d5718b7bc65e2b14a06f.jpg: 640x640 (no detections), 7.7ms\n",
            "image 122/304 /content/gdrive/My Drive/Rock_Paper_Scissors/Model_Files/test/images/Screen-Recording-2023-03-11-at-9_48_18-PM_mov-248_jpg.rf.d25029aa8b7783684652028ee88ac32b.jpg: 640x640 (no detections), 8.0ms\n",
            "image 123/304 /content/gdrive/My Drive/Rock_Paper_Scissors/Model_Files/test/images/Screen-Recording-2023-03-11-at-9_48_18-PM_mov-249_jpg.rf.169375553540c1fd5d4ab4f2be00ef10.jpg: 640x640 (no detections), 7.5ms\n",
            "image 124/304 /content/gdrive/My Drive/Rock_Paper_Scissors/Model_Files/test/images/Screen-Recording-2023-03-11-at-9_48_18-PM_mov-250_jpg.rf.605bdcceb95f7ea177ffa2c3c7d2bbce.jpg: 640x640 (no detections), 7.5ms\n",
            "image 125/304 /content/gdrive/My Drive/Rock_Paper_Scissors/Model_Files/test/images/Screen-Recording-2023-03-11-at-9_48_18-PM_mov-257_jpg.rf.e25a3c12a2feb615048e15067a8ef3c6.jpg: 640x640 (no detections), 7.6ms\n",
            "image 126/304 /content/gdrive/My Drive/Rock_Paper_Scissors/Model_Files/test/images/Screen-Recording-2023-03-11-at-9_48_18-PM_mov-258_jpg.rf.721b7a387ea2dc96469d14431a8372d5.jpg: 640x640 (no detections), 7.8ms\n",
            "image 127/304 /content/gdrive/My Drive/Rock_Paper_Scissors/Model_Files/test/images/Screen-Recording-2023-03-11-at-9_48_18-PM_mov-289_jpg.rf.955e6ecd36bb97279951f81b4dd8e373.jpg: 640x640 2 Rocks, 7.4ms\n",
            "image 128/304 /content/gdrive/My Drive/Rock_Paper_Scissors/Model_Files/test/images/Screen-Recording-2023-03-11-at-9_48_18-PM_mov-30_jpg.rf.d5ac0f9d03c507989927fb8a72d1fd61.jpg: 640x640 (no detections), 7.9ms\n",
            "image 129/304 /content/gdrive/My Drive/Rock_Paper_Scissors/Model_Files/test/images/Screen-Recording-2023-03-11-at-9_48_18-PM_mov-50_jpg.rf.d61b1eed7dccd6e72984ec9ec3f34384.jpg: 640x640 2 Rocks, 7.8ms\n",
            "image 130/304 /content/gdrive/My Drive/Rock_Paper_Scissors/Model_Files/test/images/Screen-Recording-2023-03-11-at-9_48_18-PM_mov-55_jpg.rf.5b26078d91ee3539d9580efdedd67d10.jpg: 640x640 (no detections), 7.8ms\n",
            "image 131/304 /content/gdrive/My Drive/Rock_Paper_Scissors/Model_Files/test/images/Screen-Recording-2023-03-11-at-9_48_18-PM_mov-62_jpg.rf.d5a443ab6707f85b244d1cffedf5d410.jpg: 640x640 (no detections), 7.5ms\n",
            "image 132/304 /content/gdrive/My Drive/Rock_Paper_Scissors/Model_Files/test/images/Screen-Recording-2023-03-11-at-9_48_18-PM_mov-6_jpg.rf.b10722df9aefe1ce3f9d9a03fcfb634e.jpg: 640x640 (no detections), 7.5ms\n",
            "image 133/304 /content/gdrive/My Drive/Rock_Paper_Scissors/Model_Files/test/images/Screen-Recording-2023-03-11-at-9_48_18-PM_mov-71_jpg.rf.6ea4e21ff5f84c28837abd82a3dec635.jpg: 640x640 (no detections), 7.5ms\n",
            "image 134/304 /content/gdrive/My Drive/Rock_Paper_Scissors/Model_Files/test/images/Screen-Recording-2023-03-11-at-9_48_18-PM_mov-77_jpg.rf.1f20ac9d2c0e8e3926da5a83680839ce.jpg: 640x640 (no detections), 9.0ms\n",
            "image 135/304 /content/gdrive/My Drive/Rock_Paper_Scissors/Model_Files/test/images/Screen-Recording-2023-03-11-at-9_48_18-PM_mov-7_jpg.rf.2ff1d006866f54dc02e86037efd3e9ac.jpg: 640x640 (no detections), 8.0ms\n",
            "image 136/304 /content/gdrive/My Drive/Rock_Paper_Scissors/Model_Files/test/images/Screen-Recording-2023-03-11-at-9_48_18-PM_mov-80_jpg.rf.0c63bfa51ec1f9c2d1ed9ea421e12bda.jpg: 640x640 1 Scissors, 7.6ms\n",
            "image 137/304 /content/gdrive/My Drive/Rock_Paper_Scissors/Model_Files/test/images/Screen-Recording-2023-03-11-at-9_48_18-PM_mov-89_jpg.rf.7f2e37c792e26793cc71aaff4448613c.jpg: 640x640 (no detections), 7.6ms\n",
            "image 138/304 /content/gdrive/My Drive/Rock_Paper_Scissors/Model_Files/test/images/Screen-Recording-2023-03-11-at-9_48_18-PM_mov-8_jpg.rf.67a5912885694a0d3a5a0183154b8301.jpg: 640x640 (no detections), 7.6ms\n",
            "image 139/304 /content/gdrive/My Drive/Rock_Paper_Scissors/Model_Files/test/images/Screen-Recording-2023-03-11-at-9_48_18-PM_mov-94_jpg.rf.b4fdf88bf5a54c48db4f4faa91dda1b4.jpg: 640x640 (no detections), 7.5ms\n",
            "image 140/304 /content/gdrive/My Drive/Rock_Paper_Scissors/Model_Files/test/images/Screen-Shot-2021-05-12-at-3-28-58-PM_png_jpg.rf.132e50c0afb53595b25ac3848ca71607.jpg: 640x640 1 Rock, 7.4ms\n",
            "image 141/304 /content/gdrive/My Drive/Rock_Paper_Scissors/Model_Files/test/images/Screen-Shot-2022-02-08-at-12-58-44-PM_png.rf.aacd18a7433e7abe941150429310232d.jpg: 640x640 1 Paper, 7.8ms\n",
            "image 142/304 /content/gdrive/My Drive/Rock_Paper_Scissors/Model_Files/test/images/Screen-Shot-2022-02-08-at-12-58-48-PM_png.rf.0f97b360502b3bc1b891663903b9f0a5.jpg: 640x640 1 Rock, 7.7ms\n",
            "image 143/304 /content/gdrive/My Drive/Rock_Paper_Scissors/Model_Files/test/images/Screen-Shot-2022-02-08-at-12-59-16-PM_png.rf.9a4b713a727b7438f3f586b6d78bb2ee.jpg: 640x640 1 Scissors, 7.6ms\n",
            "image 144/304 /content/gdrive/My Drive/Rock_Paper_Scissors/Model_Files/test/images/Screen-Shot-2022-02-08-at-12-59-31-PM_png.rf.efae1890d252f2d283b211bb83a9c0d3.jpg: 640x640 1 Scissors, 7.7ms\n",
            "image 145/304 /content/gdrive/My Drive/Rock_Paper_Scissors/Model_Files/test/images/Screen-Shot-2022-02-14-at-1-09-28-PM_png.rf.004276a608618ac17b2eb2b2d69fb1c0.jpg: 640x640 1 Paper, 7.9ms\n",
            "image 146/304 /content/gdrive/My Drive/Rock_Paper_Scissors/Model_Files/test/images/Screen-Shot-2022-02-16-at-1-28-19-PM_png.rf.16295d31b11de7462aeac81289db9b5b.jpg: 640x640 (no detections), 8.0ms\n",
            "image 147/304 /content/gdrive/My Drive/Rock_Paper_Scissors/Model_Files/test/images/Screen-Shot-2022-02-16-at-11-16-38-AM-2-_png.rf.82cc2730d041879145364efbac5afdd9.jpg: 640x640 1 Paper, 7.5ms\n",
            "image 148/304 /content/gdrive/My Drive/Rock_Paper_Scissors/Model_Files/test/images/Screen-Shot-2022-02-16-at-11-20-55-AM-2-_png.rf.c2533ba64b63f5d4fee768b1de212ab0.jpg: 640x640 1 Paper, 7.7ms\n",
            "image 149/304 /content/gdrive/My Drive/Rock_Paper_Scissors/Model_Files/test/images/carcel_139_19_flickr_jpg.rf.608ce249d6d4d2bd7de7001d3aad115d.jpg: 640x640 (no detections), 7.6ms\n",
            "image 150/304 /content/gdrive/My Drive/Rock_Paper_Scissors/Model_Files/test/images/chambre_resto_1_jpg.rf.22de5c723c4df940478c12c8f6e39093.jpg: 640x640 (no detections), 7.5ms\n",
            "image 151/304 /content/gdrive/My Drive/Rock_Paper_Scissors/Model_Files/test/images/egohands-public-1620849847487_png_jpg.rf.355777ab941573cef1e27f30d003bf2c.jpg: 640x640 2 Scissorss, 7.7ms\n",
            "image 152/304 /content/gdrive/My Drive/Rock_Paper_Scissors/Model_Files/test/images/egohands-public-1620849869759_png_jpg.rf.1297a5523b200f54839c058fbe6ec9ea.jpg: 640x640 1 Rock, 7.5ms\n",
            "image 153/304 /content/gdrive/My Drive/Rock_Paper_Scissors/Model_Files/test/images/egohands-public-1620849871605_png_jpg.rf.566b1b47cbd3b1558121ca2e797f5ff7.jpg: 640x640 1 Paper, 7.6ms\n",
            "image 154/304 /content/gdrive/My Drive/Rock_Paper_Scissors/Model_Files/test/images/egohands-public-1620849873632_png_jpg.rf.58189125abe16b757adf8cd2799ed616.jpg: 640x640 1 Paper, 7.5ms\n",
            "image 155/304 /content/gdrive/My Drive/Rock_Paper_Scissors/Model_Files/test/images/egohands-public-1620850453735_png_jpg.rf.1bbddd3a801574ef7e470163dda4920d.jpg: 640x640 1 Scissors, 8.6ms\n",
            "image 156/304 /content/gdrive/My Drive/Rock_Paper_Scissors/Model_Files/test/images/egohands-public-1620852224787_png_jpg.rf.d80d54face65897e5d03cd518bb2be1c.jpg: 640x640 1 Rock, 7.9ms\n",
            "image 157/304 /content/gdrive/My Drive/Rock_Paper_Scissors/Model_Files/test/images/egohands-public-1620852256502_png_jpg.rf.b7a5cc4785712f79c89a9ff3ca7c883e.jpg: 640x640 1 Paper, 7.5ms\n",
            "image 158/304 /content/gdrive/My Drive/Rock_Paper_Scissors/Model_Files/test/images/egohands-public-1621214243875_png_jpg.rf.7837991d81c2de31222f518161f69814.jpg: 640x640 (no detections), 7.5ms\n",
            "image 159/304 /content/gdrive/My Drive/Rock_Paper_Scissors/Model_Files/test/images/egohands-public-1621214254945_png_jpg.rf.3e24d3c3c3b3e91be6191a7f31fa0ca5.jpg: 640x640 1 Paper, 7.6ms\n",
            "image 160/304 /content/gdrive/My Drive/Rock_Paper_Scissors/Model_Files/test/images/egohands-public-1621214710295_png_jpg.rf.f776cb3d2b155a770446eb19960934b0.jpg: 640x640 1 Paper, 7.5ms\n",
            "image 161/304 /content/gdrive/My Drive/Rock_Paper_Scissors/Model_Files/test/images/egohands-public-1621349890675_png_jpg.rf.0d6f828c1a48a7515a87a85c468da676.jpg: 640x640 1 Scissors, 7.8ms\n",
            "image 162/304 /content/gdrive/My Drive/Rock_Paper_Scissors/Model_Files/test/images/egohands-public-1621349891794_png_jpg.rf.314e704aa30f0c6f8675eb99fbe65b13.jpg: 640x640 1 Paper, 7.6ms\n",
            "image 163/304 /content/gdrive/My Drive/Rock_Paper_Scissors/Model_Files/test/images/egohands-public-1621363183329_png_jpg.rf.cad1a0ab3184fabf1bc8ea7f2499c3a0.jpg: 640x640 (no detections), 7.6ms\n",
            "image 164/304 /content/gdrive/My Drive/Rock_Paper_Scissors/Model_Files/test/images/egohands-public-1621363477842_png_jpg.rf.c4555a1ea52826e060ed06d311f8ab79.jpg: 640x640 (no detections), 7.6ms\n",
            "image 165/304 /content/gdrive/My Drive/Rock_Paper_Scissors/Model_Files/test/images/egohands-public-1621519206541_png_jpg.rf.3034663ab0cffee88341726112cb0d78.jpg: 640x640 (no detections), 7.6ms\n",
            "image 166/304 /content/gdrive/My Drive/Rock_Paper_Scissors/Model_Files/test/images/egohands-public-1622124256821_png_jpg.rf.cf89aa12adbc212966358a3d439692d1.jpg: 640x640 (no detections), 7.5ms\n",
            "image 167/304 /content/gdrive/My Drive/Rock_Paper_Scissors/Model_Files/test/images/egohands-public-1622127393755_png_jpg.rf.b2fd9abb11628423f5f82ffd4a5cadb1.jpg: 640x640 1 Paper, 7.6ms\n",
            "image 168/304 /content/gdrive/My Drive/Rock_Paper_Scissors/Model_Files/test/images/egohands-public-1622730832103_png_jpg.rf.114588fe3eb0def9cc5eef067655fdd6.jpg: 640x640 1 Scissors, 7.4ms\n",
            "image 169/304 /content/gdrive/My Drive/Rock_Paper_Scissors/Model_Files/test/images/egohands-public-1622746667780_png_jpg.rf.49d74ea9c63b6504d5e5beb3784f1712.jpg: 640x640 1 Rock, 7.3ms\n",
            "image 170/304 /content/gdrive/My Drive/Rock_Paper_Scissors/Model_Files/test/images/egohands-public-1622746679719_png_jpg.rf.e0b20ac1bc42903872a851d56363604c.jpg: 640x640 1 Paper, 7.3ms\n",
            "image 171/304 /content/gdrive/My Drive/Rock_Paper_Scissors/Model_Files/test/images/egohands-public-1622748405009_png_jpg.rf.94b2a32daad24b1e1963b47feceac216.jpg: 640x640 1 Paper, 8.0ms\n",
            "image 172/304 /content/gdrive/My Drive/Rock_Paper_Scissors/Model_Files/test/images/egohands-public-1623336383872_png_jpg.rf.cf24523398344a8240cd8cde25acd064.jpg: 640x640 1 Paper, 7.9ms\n",
            "image 173/304 /content/gdrive/My Drive/Rock_Paper_Scissors/Model_Files/test/images/egohands-public-1623336386373_png_jpg.rf.10cd0ece7487b1b1582c242a05f8fd9e.jpg: 640x640 1 Paper, 8.0ms\n",
            "image 174/304 /content/gdrive/My Drive/Rock_Paper_Scissors/Model_Files/test/images/egohands-public-1623336387512_png_jpg.rf.9e7c231fb295e3e836961da66d47de13.jpg: 640x640 1 Paper, 7.6ms\n",
            "image 175/304 /content/gdrive/My Drive/Rock_Paper_Scissors/Model_Files/test/images/egohands-public-1623358708554_png_jpg.rf.929c159b5b804ed9e946685faf03ddb3.jpg: 640x640 1 Rock, 7.5ms\n",
            "image 176/304 /content/gdrive/My Drive/Rock_Paper_Scissors/Model_Files/test/images/egohands-public-1623358709389_png_jpg.rf.01566636003f63ab6cd0dbad04d98c62.jpg: 640x640 1 Rock, 7.6ms\n",
            "image 177/304 /content/gdrive/My Drive/Rock_Paper_Scissors/Model_Files/test/images/egohands-public-1623712814722_png_jpg.rf.2163babbd15cbf7b4c00b5beaa7a7710.jpg: 640x640 1 Rock, 7.8ms\n",
            "image 178/304 /content/gdrive/My Drive/Rock_Paper_Scissors/Model_Files/test/images/egohands-public-1623712835471_png_jpg.rf.8c679818aa9234261ac76d7264d40370.jpg: 640x640 (no detections), 7.8ms\n",
            "image 179/304 /content/gdrive/My Drive/Rock_Paper_Scissors/Model_Files/test/images/egohands-public-1623712843454_png_jpg.rf.333149ecf9979a41d4598c020ff495d5.jpg: 640x640 1 Paper, 7.6ms\n",
            "image 180/304 /content/gdrive/My Drive/Rock_Paper_Scissors/Model_Files/test/images/egohands-public-1623712844639_png_jpg.rf.f367afe758cbd1e77f075efca47b609a.jpg: 640x640 1 Paper, 7.7ms\n",
            "image 181/304 /content/gdrive/My Drive/Rock_Paper_Scissors/Model_Files/test/images/egohands-public-1623873260110_png_jpg.rf.84b43e7ca2a946655f10eea306a4bce8.jpg: 640x640 1 Paper, 7.3ms\n",
            "image 182/304 /content/gdrive/My Drive/Rock_Paper_Scissors/Model_Files/test/images/egohands-public-1623941906012_png_jpg.rf.8a047c76589778bf09add91a34b3c00a.jpg: 640x640 1 Rock, 7.4ms\n",
            "image 183/304 /content/gdrive/My Drive/Rock_Paper_Scissors/Model_Files/test/images/egohands-public-1623941913075_png_jpg.rf.cb60fdc53d02264d4be632b399497aaf.jpg: 640x640 1 Paper, 7.5ms\n",
            "image 184/304 /content/gdrive/My Drive/Rock_Paper_Scissors/Model_Files/test/images/egohands-public-1624053425083_png_jpg.rf.d52bb48c201c5c93bc964cd38699dcf2.jpg: 640x640 1 Paper, 8.0ms\n",
            "image 185/304 /content/gdrive/My Drive/Rock_Paper_Scissors/Model_Files/test/images/egohands-public-1624053426194_png_jpg.rf.dedd446bdb62335d1dc58b8ba18ecfa6.jpg: 640x640 1 Scissors, 7.8ms\n",
            "image 186/304 /content/gdrive/My Drive/Rock_Paper_Scissors/Model_Files/test/images/egohands-public-1624053436504_png_jpg.rf.855309535d1ea4ab1aa9b671702dde8a.jpg: 640x640 1 Paper, 8.2ms\n",
            "image 187/304 /content/gdrive/My Drive/Rock_Paper_Scissors/Model_Files/test/images/egohands-public-1624298524238_png_jpg.rf.cf993a96edab8e76fb6937040bc58101.jpg: 640x640 1 Rock, 7.9ms\n",
            "image 188/304 /content/gdrive/My Drive/Rock_Paper_Scissors/Model_Files/test/images/egohands-public-1624298528652_png_jpg.rf.5b2572c05375a8c46d5fd05a9954029f.jpg: 640x640 1 Paper, 7.5ms\n",
            "image 189/304 /content/gdrive/My Drive/Rock_Paper_Scissors/Model_Files/test/images/egohands-public-1624298530518_png_jpg.rf.a18a7a8fcf34ef59fd64413b170fad15.jpg: 640x640 1 Paper, 8.0ms\n",
            "image 190/304 /content/gdrive/My Drive/Rock_Paper_Scissors/Model_Files/test/images/egohands-public-1624377520223_png_jpg.rf.a9ef8b283bb6d6e68bf16203164d4a01.jpg: 640x640 (no detections), 7.6ms\n",
            "image 191/304 /content/gdrive/My Drive/Rock_Paper_Scissors/Model_Files/test/images/egohands-public-1624377532027_png_jpg.rf.513d7d6afe41b27987bb3c8a66c19970.jpg: 640x640 1 Scissors, 7.6ms\n",
            "image 192/304 /content/gdrive/My Drive/Rock_Paper_Scissors/Model_Files/test/images/egohands-public-1624377541413_png_jpg.rf.8e04f2fb15a409c623c4922e864b5dfc.jpg: 640x640 (no detections), 7.6ms\n",
            "image 193/304 /content/gdrive/My Drive/Rock_Paper_Scissors/Model_Files/test/images/egohands-public-1624465888641_png_jpg.rf.886253ff4aaf0b15969b9fa1a918c6de.jpg: 640x640 1 Scissors, 7.5ms\n",
            "image 194/304 /content/gdrive/My Drive/Rock_Paper_Scissors/Model_Files/test/images/egohands-public-1624465891194_png_jpg.rf.cce4854600f5f798809a3246bf81105c.jpg: 640x640 1 Paper, 7.4ms\n",
            "image 195/304 /content/gdrive/My Drive/Rock_Paper_Scissors/Model_Files/test/images/egohands-public-1624465893587_png_jpg.rf.7c8862d645019ad2d8acb3573a29f088.jpg: 640x640 1 Paper, 7.6ms\n",
            "image 196/304 /content/gdrive/My Drive/Rock_Paper_Scissors/Model_Files/test/images/egohands-public-1624465898166_png_jpg.rf.477c6287df684bd72cb83142c20e0e43.jpg: 640x640 (no detections), 7.5ms\n",
            "image 197/304 /content/gdrive/My Drive/Rock_Paper_Scissors/Model_Files/test/images/egohands-public-1624546403485_png_jpg.rf.c241020a875a6778bd65016ea5eedc7c.jpg: 640x640 1 Paper, 9.4ms\n",
            "image 198/304 /content/gdrive/My Drive/Rock_Paper_Scissors/Model_Files/test/images/egohands-public-1624550293327_png_jpg.rf.6816402821a508691b7ae00dd31641be.jpg: 640x640 1 Scissors, 7.9ms\n",
            "image 199/304 /content/gdrive/My Drive/Rock_Paper_Scissors/Model_Files/test/images/egohands-public-1624550304613_png_jpg.rf.cb681128bfe82a3081a2f77b470dbf69.jpg: 640x640 1 Rock, 8.7ms\n",
            "image 200/304 /content/gdrive/My Drive/Rock_Paper_Scissors/Model_Files/test/images/egohands-public-1624561277010_png_jpg.rf.1d53c965da07a3b244757a22a4ca5c27.jpg: 640x640 1 Paper, 9.2ms\n",
            "image 201/304 /content/gdrive/My Drive/Rock_Paper_Scissors/Model_Files/test/images/egohands-public-1624563397953_png_jpg.rf.d91c17bd3b3481665f2ae5d901f89bd5.jpg: 640x640 (no detections), 8.8ms\n",
            "image 202/304 /content/gdrive/My Drive/Rock_Paper_Scissors/Model_Files/test/images/egohands-public-1624563408999_png_jpg.rf.4ed01641a8913addd0c7377c2cf3fc5a.jpg: 640x640 1 Scissors, 7.4ms\n",
            "image 203/304 /content/gdrive/My Drive/Rock_Paper_Scissors/Model_Files/test/images/egohands-public-1624563408999_png_jpg.rf.91ce76eb19209917f78da8ae04f7866c.jpg: 640x640 1 Scissors, 7.4ms\n",
            "image 204/304 /content/gdrive/My Drive/Rock_Paper_Scissors/Model_Files/test/images/egohands-public-1624972107897_png_jpg.rf.6991f44b248b35d3394482a26fcaeb56.jpg: 640x640 1 Scissors, 7.4ms\n",
            "image 205/304 /content/gdrive/My Drive/Rock_Paper_Scissors/Model_Files/test/images/egohands-public-1624972110245_png_jpg.rf.a29609159d22c4c5d1419fafcd994a01.jpg: 640x640 1 Paper, 7.7ms\n",
            "image 206/304 /content/gdrive/My Drive/Rock_Paper_Scissors/Model_Files/test/images/egohands-public-1624972111157_png_jpg.rf.d94c729f73301e904197c5b771acdffd.jpg: 640x640 1 Scissors, 7.8ms\n",
            "image 207/304 /content/gdrive/My Drive/Rock_Paper_Scissors/Model_Files/test/images/egohands-public-1624972114651_png_jpg.rf.ef138093d547561329d551a00b1dd099.jpg: 640x640 (no detections), 7.5ms\n",
            "image 208/304 /content/gdrive/My Drive/Rock_Paper_Scissors/Model_Files/test/images/egohands-public-1624972119689_png_jpg.rf.8dc857cc75e8188dea073e478b5c3b5c.jpg: 640x640 1 Rock, 8.2ms\n",
            "image 209/304 /content/gdrive/My Drive/Rock_Paper_Scissors/Model_Files/test/images/egohands-public-1625012666756_png_jpg.rf.ea90cb61eb0df5c403f532f6b044bc1b.jpg: 640x640 1 Scissors, 8.6ms\n",
            "image 210/304 /content/gdrive/My Drive/Rock_Paper_Scissors/Model_Files/test/images/egohands-public-1625012668003_png_jpg.rf.5aaa24c5a3833cab04fb4cb340510ffa.jpg: 640x640 1 Scissors, 9.1ms\n",
            "image 211/304 /content/gdrive/My Drive/Rock_Paper_Scissors/Model_Files/test/images/egohands-public-1625012671555_png_jpg.rf.0a99704085308772b0d8ddbcdf87e8e0.jpg: 640x640 (no detections), 8.6ms\n",
            "image 212/304 /content/gdrive/My Drive/Rock_Paper_Scissors/Model_Files/test/images/egohands-public-1625070637052_png_jpg.rf.4831b8b5b4057eed162f008511422485.jpg: 640x640 1 Scissors, 8.1ms\n",
            "image 213/304 /content/gdrive/My Drive/Rock_Paper_Scissors/Model_Files/test/images/egohands-public-1625070644197_png_jpg.rf.4f0b60525b84c74557317b24d793143b.jpg: 640x640 1 Scissors, 10.7ms\n",
            "image 214/304 /content/gdrive/My Drive/Rock_Paper_Scissors/Model_Files/test/images/egohands-public-1625070651933_png_jpg.rf.602d0a93768d7063d0f393630d006d97.jpg: 640x640 1 Rock, 7.7ms\n",
            "image 215/304 /content/gdrive/My Drive/Rock_Paper_Scissors/Model_Files/test/images/egohands-public-1625151611781_png_jpg.rf.276832091344ab8e788895ff056f90c3.jpg: 640x640 1 Paper, 8.0ms\n",
            "image 216/304 /content/gdrive/My Drive/Rock_Paper_Scissors/Model_Files/test/images/egohands-public-1625254249011_png_jpg.rf.a769a196160400a15fa323398ecc9af1.jpg: 640x640 1 Paper, 7.6ms\n",
            "image 217/304 /content/gdrive/My Drive/Rock_Paper_Scissors/Model_Files/test/images/egohands-public-1625679159400_png_jpg.rf.9935c5c7f6181515a77387926a2a6a65.jpg: 640x640 (no detections), 7.9ms\n",
            "image 218/304 /content/gdrive/My Drive/Rock_Paper_Scissors/Model_Files/test/images/egohands-public-1625756311389_png_jpg.rf.2f6d92cb4bae80686a11e160b80a732e.jpg: 640x640 1 Paper, 7.6ms\n",
            "image 219/304 /content/gdrive/My Drive/Rock_Paper_Scissors/Model_Files/test/images/egohands-public-1625756317309_png_jpg.rf.5d603793ab3eacafcd5e6c804cfbda9f.jpg: 640x640 1 Rock, 8.1ms\n",
            "image 220/304 /content/gdrive/My Drive/Rock_Paper_Scissors/Model_Files/test/images/egohands-public-1625860387830_png_jpg.rf.b0a0431257a5a83748b7dcd23ba73803.jpg: 640x640 1 Rock, 7.6ms\n",
            "image 221/304 /content/gdrive/My Drive/Rock_Paper_Scissors/Model_Files/test/images/egohands-public-1625860395055_png_jpg.rf.368bde93a2201f581727bd6a2956acd0.jpg: 640x640 1 Paper, 7.5ms\n",
            "image 222/304 /content/gdrive/My Drive/Rock_Paper_Scissors/Model_Files/test/images/egohands-public-1626201612073_png_jpg.rf.9b77b0ddfbf7c75057d27cf8b10c480d.jpg: 640x640 1 Paper, 7.6ms\n",
            "image 223/304 /content/gdrive/My Drive/Rock_Paper_Scissors/Model_Files/test/images/egohands-public-1626201614270_png_jpg.rf.3d48501d9c5bb8ae3bafa6d5257e6db7.jpg: 640x640 2 Rocks, 7.6ms\n",
            "image 224/304 /content/gdrive/My Drive/Rock_Paper_Scissors/Model_Files/test/images/egohands-public-1626355936259_png_jpg.rf.8205d5ab628834642e297b6ac593d93a.jpg: 640x640 1 Scissors, 7.5ms\n",
            "image 225/304 /content/gdrive/My Drive/Rock_Paper_Scissors/Model_Files/test/images/egohands-public-1626386619095_png_jpg.rf.f19dff48b779f48abf4b40bd5a1b0d55.jpg: 640x640 1 Paper, 7.7ms\n",
            "image 226/304 /content/gdrive/My Drive/Rock_Paper_Scissors/Model_Files/test/images/egohands-public-1626460203729_png_jpg.rf.6dc0a1c489c8c0a7112bed68c427f51d.jpg: 640x640 (no detections), 7.9ms\n",
            "image 227/304 /content/gdrive/My Drive/Rock_Paper_Scissors/Model_Files/test/images/egohands-public-1626460207007_png_jpg.rf.cf87a2a31fa16a4c9e9e6b6a8b4cabab.jpg: 640x640 (no detections), 7.4ms\n",
            "image 228/304 /content/gdrive/My Drive/Rock_Paper_Scissors/Model_Files/test/images/egohands-public-1626460211490_png_jpg.rf.cb10bda888b53763c3919e1d9dcd4ea7.jpg: 640x640 1 Rock, 7.4ms\n",
            "image 229/304 /content/gdrive/My Drive/Rock_Paper_Scissors/Model_Files/test/images/egohands-public-1626460213979_png_jpg.rf.a67c957fe2bc101e80271299ed534331.jpg: 640x640 1 Scissors, 7.3ms\n",
            "image 230/304 /content/gdrive/My Drive/Rock_Paper_Scissors/Model_Files/test/images/egohands-public-1626966059622_png_jpg.rf.ef128dce794cd7ccbeda2e68664d5e35.jpg: 640x640 (no detections), 7.8ms\n",
            "image 231/304 /content/gdrive/My Drive/Rock_Paper_Scissors/Model_Files/test/images/egohands-public-1626966060817_png_jpg.rf.42ad988920eebbec5f7276dd80f80160.jpg: 640x640 (no detections), 7.7ms\n",
            "image 232/304 /content/gdrive/My Drive/Rock_Paper_Scissors/Model_Files/test/images/egohands-public-1626966067167_png_jpg.rf.078d6d120ba5d71e55e8c0980340a393.jpg: 640x640 1 Rock, 7.3ms\n",
            "image 233/304 /content/gdrive/My Drive/Rock_Paper_Scissors/Model_Files/test/images/egohands-public-1627056101745_png_jpg.rf.bccf961ac55c3d76e6ff466cb72c6587.jpg: 640x640 1 Scissors, 7.3ms\n",
            "image 234/304 /content/gdrive/My Drive/Rock_Paper_Scissors/Model_Files/test/images/egohands-public-1627056109772_png_jpg.rf.6db6b75965c5f99b0639d32962848dcd.jpg: 640x640 1 Paper, 8.0ms\n",
            "image 235/304 /content/gdrive/My Drive/Rock_Paper_Scissors/Model_Files/test/images/egohands-public-1628705398306_png_jpg.rf.74053c0d03cbe83d98edfa70ff23c80d.jpg: 640x640 1 Rock, 7.6ms\n",
            "image 236/304 /content/gdrive/My Drive/Rock_Paper_Scissors/Model_Files/test/images/egohands-public-1628705401923_png_jpg.rf.434abe1d39a91bac7b87283b74a719c1.jpg: 640x640 1 Scissors, 7.5ms\n",
            "image 237/304 /content/gdrive/My Drive/Rock_Paper_Scissors/Model_Files/test/images/jail02_jpg.rf.f56231c6c631762f4833370a84411995.jpg: 640x640 (no detections), 7.3ms\n",
            "image 238/304 /content/gdrive/My Drive/Rock_Paper_Scissors/Model_Files/test/images/piscina_cubierta_05_06_altavista_jpg.rf.59eaa057da41281113c013f98e34c936.jpg: 640x640 (no detections), 7.3ms\n",
            "image 239/304 /content/gdrive/My Drive/Rock_Paper_Scissors/Model_Files/test/images/piscina_nott1_jpg.rf.4d91d976c248d9baebdfc4bab13a6a3f.jpg: 640x640 (no detections), 7.5ms\n",
            "image 240/304 /content/gdrive/My Drive/Rock_Paper_Scissors/Model_Files/test/images/prison_cell_03_11_altavista_jpg.rf.8e647855bea53096f7b74f272b968944.jpg: 640x640 (no detections), 7.4ms\n",
            "image 241/304 /content/gdrive/My Drive/Rock_Paper_Scissors/Model_Files/test/images/restaurant_01_09_altavista_jpg.rf.793d33a57d4b941f4d4de6ca483d5b6a.jpg: 640x640 (no detections), 7.5ms\n",
            "image 242/304 /content/gdrive/My Drive/Rock_Paper_Scissors/Model_Files/test/images/restaurant_06_10_altavista_jpg.rf.4a53ad0063f6a7a26771cfef9b4f07b7.jpg: 640x640 (no detections), 7.6ms\n",
            "image 243/304 /content/gdrive/My Drive/Rock_Paper_Scissors/Model_Files/test/images/restaurant_08_15_altavista_jpg.rf.0112e2cb108ae49c966643ebc28e1406.jpg: 640x640 (no detections), 7.7ms\n",
            "image 244/304 /content/gdrive/My Drive/Rock_Paper_Scissors/Model_Files/test/images/restaurant_11_10_altavista_jpg.rf.33d3b084cee7cfb07dacc153e4b4a4b7.jpg: 640x640 (no detections), 7.5ms\n",
            "image 245/304 /content/gdrive/My Drive/Rock_Paper_Scissors/Model_Files/test/images/restaurant_26_14_altavista_jpg.rf.7c7f3fb8cf09172851efcda5c308d0b1.jpg: 640x640 (no detections), 7.5ms\n",
            "image 246/304 /content/gdrive/My Drive/Rock_Paper_Scissors/Model_Files/test/images/youtube-114_jpg.rf.ebc8336a5476116bcade1e78b8fbcb8b.jpg: 640x640 1 Paper, 1 Scissors, 7.5ms\n",
            "image 247/304 /content/gdrive/My Drive/Rock_Paper_Scissors/Model_Files/test/images/youtube-115_jpg.rf.2800bdb9db9e04287b5e232bc67267f2.jpg: 640x640 1 Paper, 1 Scissors, 7.5ms\n",
            "image 248/304 /content/gdrive/My Drive/Rock_Paper_Scissors/Model_Files/test/images/youtube-117_jpg.rf.7bee65e734adbfd002489c416ede931f.jpg: 640x640 2 Rocks, 7.8ms\n",
            "image 249/304 /content/gdrive/My Drive/Rock_Paper_Scissors/Model_Files/test/images/youtube-11_jpg.rf.e4dfdfb93e5d7d2eef8c334a02f85b15.jpg: 640x640 2 Rocks, 7.4ms\n",
            "image 250/304 /content/gdrive/My Drive/Rock_Paper_Scissors/Model_Files/test/images/youtube-124_jpg.rf.9e09975f0f79e0f6e7142a81fb8a203a.jpg: 640x640 2 Scissorss, 7.8ms\n",
            "image 251/304 /content/gdrive/My Drive/Rock_Paper_Scissors/Model_Files/test/images/youtube-124_jpg.rf.9e514844ec7d73ea9e3d480497bc959c.jpg: 640x640 2 Rocks, 7.7ms\n",
            "image 252/304 /content/gdrive/My Drive/Rock_Paper_Scissors/Model_Files/test/images/youtube-127_jpg.rf.77b42072c208590f5ba5531781db8548.jpg: 640x640 1 Rock, 1 Scissors, 7.5ms\n",
            "image 253/304 /content/gdrive/My Drive/Rock_Paper_Scissors/Model_Files/test/images/youtube-133_jpg.rf.489478ec43834862d9343efcb7746a39.jpg: 640x640 (no detections), 7.6ms\n",
            "image 254/304 /content/gdrive/My Drive/Rock_Paper_Scissors/Model_Files/test/images/youtube-137_jpg.rf.aa6adfefdcc6b129368507db98dee129.jpg: 640x640 (no detections), 7.6ms\n",
            "image 255/304 /content/gdrive/My Drive/Rock_Paper_Scissors/Model_Files/test/images/youtube-139_jpg.rf.5d7aa1ef20cf3694a0bc6ded2049f31f.jpg: 640x640 (no detections), 7.5ms\n",
            "image 256/304 /content/gdrive/My Drive/Rock_Paper_Scissors/Model_Files/test/images/youtube-20_jpg.rf.16cb7c3d5159b64ac3b8ef368b05bb99.jpg: 640x640 (no detections), 7.5ms\n",
            "image 257/304 /content/gdrive/My Drive/Rock_Paper_Scissors/Model_Files/test/images/youtube-25_jpg.rf.121bbf3873487349ba7e5e2cde55dcef.jpg: 640x640 1 Rock, 7.6ms\n",
            "image 258/304 /content/gdrive/My Drive/Rock_Paper_Scissors/Model_Files/test/images/youtube-29_jpg.rf.dc2dcea463314f8b47667142adb650fb.jpg: 640x640 1 Rock, 7.6ms\n",
            "image 259/304 /content/gdrive/My Drive/Rock_Paper_Scissors/Model_Files/test/images/youtube-34_jpg.rf.348de6113db6e57567e97707f44d67c3.jpg: 640x640 1 Scissors, 7.4ms\n",
            "image 260/304 /content/gdrive/My Drive/Rock_Paper_Scissors/Model_Files/test/images/youtube-37_jpg.rf.c37e20e61025e5b29cf34add1e2ee3bc.jpg: 640x640 1 Paper, 7.4ms\n",
            "image 261/304 /content/gdrive/My Drive/Rock_Paper_Scissors/Model_Files/test/images/youtube-39_jpg.rf.b9e13672096b17ca25211a4166114c8c.jpg: 640x640 1 Scissors, 7.4ms\n",
            "image 262/304 /content/gdrive/My Drive/Rock_Paper_Scissors/Model_Files/test/images/youtube-3_jpg.rf.efdfbd6b9dd687268ca188c0ae3f54da.jpg: 640x640 (no detections), 7.6ms\n",
            "image 263/304 /content/gdrive/My Drive/Rock_Paper_Scissors/Model_Files/test/images/youtube-40_jpg.rf.a39bd6b610c103709408b34c32d3b97f.jpg: 640x640 1 Scissors, 7.4ms\n",
            "image 264/304 /content/gdrive/My Drive/Rock_Paper_Scissors/Model_Files/test/images/youtube-46_jpg.rf.a445d2725c0fa51ab9c496a7be94c522.jpg: 640x640 (no detections), 7.5ms\n",
            "image 265/304 /content/gdrive/My Drive/Rock_Paper_Scissors/Model_Files/test/images/youtube-50_jpg.rf.8feac9da5300444c7e16fa9ba30ce2f2.jpg: 640x640 (no detections), 7.7ms\n",
            "image 266/304 /content/gdrive/My Drive/Rock_Paper_Scissors/Model_Files/test/images/youtube-51_jpg.rf.592602e13fd91f20c176e68d59a21d1e.jpg: 640x640 (no detections), 7.5ms\n",
            "image 267/304 /content/gdrive/My Drive/Rock_Paper_Scissors/Model_Files/test/images/youtube-56_jpg.rf.7676322ce508982f24ee8eb4f6266ab9.jpg: 640x640 1 Paper, 2 Scissorss, 7.5ms\n",
            "image 268/304 /content/gdrive/My Drive/Rock_Paper_Scissors/Model_Files/test/images/youtube-58_jpg.rf.38a083eefa3d90155ecfae628b3df0de.jpg: 640x640 1 Rock, 7.7ms\n",
            "image 269/304 /content/gdrive/My Drive/Rock_Paper_Scissors/Model_Files/test/images/youtube-59_jpg.rf.60f4826abbf282fb647605441bfb1024.jpg: 640x640 1 Rock, 7.3ms\n",
            "image 270/304 /content/gdrive/My Drive/Rock_Paper_Scissors/Model_Files/test/images/youtube-63_jpg.rf.ca761368d61451ada0968062870a7026.jpg: 640x640 1 Paper, 1 Rock, 9.4ms\n",
            "image 271/304 /content/gdrive/My Drive/Rock_Paper_Scissors/Model_Files/test/images/youtube-70_jpg.rf.73d1fdcd2f9c5a15646637453c1450c1.jpg: 640x640 (no detections), 7.4ms\n",
            "image 272/304 /content/gdrive/My Drive/Rock_Paper_Scissors/Model_Files/test/images/youtube-84_jpg.rf.a53d50d8ad44fcf9ea8d0d88777572c8.jpg: 640x640 1 Rock, 7.4ms\n",
            "image 273/304 /content/gdrive/My Drive/Rock_Paper_Scissors/Model_Files/test/images/youtube-93_jpg.rf.b6c1dc39154e28cce2bd5ea57387ab48.jpg: 640x640 1 Scissors, 7.4ms\n",
            "image 274/304 /content/gdrive/My Drive/Rock_Paper_Scissors/Model_Files/test/images/zoom_tests_RockPaperScissors-mohamed_mp4-104_jpg.rf.c1ebff6b365222f9b62fdc7e3bf7e506.jpg: 640x640 1 Paper, 7.4ms\n",
            "image 275/304 /content/gdrive/My Drive/Rock_Paper_Scissors/Model_Files/test/images/zoom_tests_RockPaperScissors-mohamed_mp4-107_jpg.rf.056c26adf21336e65bd2ff9fcfe79df9.jpg: 640x640 1 Paper, 7.8ms\n",
            "image 276/304 /content/gdrive/My Drive/Rock_Paper_Scissors/Model_Files/test/images/zoom_tests_RockPaperScissors-mohamed_mp4-108_jpg.rf.527a140c46f5e84195dbc3ddc8206609.jpg: 640x640 1 Paper, 7.6ms\n",
            "image 277/304 /content/gdrive/My Drive/Rock_Paper_Scissors/Model_Files/test/images/zoom_tests_RockPaperScissors-mohamed_mp4-110_jpg.rf.e17cde25ba79b045f283a8fc44402bd3.jpg: 640x640 2 Papers, 8.1ms\n",
            "image 278/304 /content/gdrive/My Drive/Rock_Paper_Scissors/Model_Files/test/images/zoom_tests_RockPaperScissors-mohamed_mp4-114_jpg.rf.c8fbb658b2a760720af7c1caa2d40109.jpg: 640x640 1 Paper, 8.1ms\n",
            "image 279/304 /content/gdrive/My Drive/Rock_Paper_Scissors/Model_Files/test/images/zoom_tests_RockPaperScissors-mohamed_mp4-12_jpg.rf.a48869bbb5abcb89e54734ab74eca4d8.jpg: 640x640 (no detections), 8.2ms\n",
            "image 280/304 /content/gdrive/My Drive/Rock_Paper_Scissors/Model_Files/test/images/zoom_tests_RockPaperScissors-mohamed_mp4-137_jpg.rf.fbd52216775bbb38da609b7e8062468e.jpg: 640x640 1 Paper, 8.2ms\n",
            "image 281/304 /content/gdrive/My Drive/Rock_Paper_Scissors/Model_Files/test/images/zoom_tests_RockPaperScissors-mohamed_mp4-143_jpg.rf.61aed70a8b309a6e2669b9463a1c41e5.jpg: 640x640 1 Paper, 10.7ms\n",
            "image 282/304 /content/gdrive/My Drive/Rock_Paper_Scissors/Model_Files/test/images/zoom_tests_RockPaperScissors-mohamed_mp4-147_jpg.rf.e86b6adc544f78df64a5381e42f172d2.jpg: 640x640 1 Paper, 7.9ms\n",
            "image 283/304 /content/gdrive/My Drive/Rock_Paper_Scissors/Model_Files/test/images/zoom_tests_RockPaperScissors-mohamed_mp4-157_jpg.rf.f6cfde7f0bb724f694018558aecfedb9.jpg: 640x640 (no detections), 8.0ms\n",
            "image 284/304 /content/gdrive/My Drive/Rock_Paper_Scissors/Model_Files/test/images/zoom_tests_RockPaperScissors-mohamed_mp4-164_jpg.rf.7cc3e8d09931a94a6b4d5d614a65489f.jpg: 640x640 1 Paper, 7.8ms\n",
            "image 285/304 /content/gdrive/My Drive/Rock_Paper_Scissors/Model_Files/test/images/zoom_tests_RockPaperScissors-mohamed_mp4-178_jpg.rf.ee8324347a3a0a594b255fd0a59fedcf.jpg: 640x640 1 Scissors, 7.8ms\n",
            "image 286/304 /content/gdrive/My Drive/Rock_Paper_Scissors/Model_Files/test/images/zoom_tests_RockPaperScissors-mohamed_mp4-187_jpg.rf.2154ec5df3d2d8bf8513669e06da5780.jpg: 640x640 1 Scissors, 7.7ms\n",
            "image 287/304 /content/gdrive/My Drive/Rock_Paper_Scissors/Model_Files/test/images/zoom_tests_RockPaperScissors-mohamed_mp4-199_jpg.rf.e41365af3ed167f0050d5d1e7425c300.jpg: 640x640 1 Scissors, 7.6ms\n",
            "image 288/304 /content/gdrive/My Drive/Rock_Paper_Scissors/Model_Files/test/images/zoom_tests_RockPaperScissors-mohamed_mp4-209_jpg.rf.e4dd83596f9cea2dfd035682050ea5a3.jpg: 640x640 1 Scissors, 7.6ms\n",
            "image 289/304 /content/gdrive/My Drive/Rock_Paper_Scissors/Model_Files/test/images/zoom_tests_RockPaperScissors-mohamed_mp4-216_jpg.rf.9bcc315b8ad5a2d871fec32702f25f76.jpg: 640x640 1 Scissors, 7.5ms\n",
            "image 290/304 /content/gdrive/My Drive/Rock_Paper_Scissors/Model_Files/test/images/zoom_tests_RockPaperScissors-mohamed_mp4-238_jpg.rf.a2ec0e42afe8e5b3b40e3def5a9b1c8e.jpg: 640x640 (no detections), 7.6ms\n",
            "image 291/304 /content/gdrive/My Drive/Rock_Paper_Scissors/Model_Files/test/images/zoom_tests_RockPaperScissors-mohamed_mp4-243_jpg.rf.818dafee2d571efd51884e8f30315bf4.jpg: 640x640 (no detections), 7.7ms\n",
            "image 292/304 /content/gdrive/My Drive/Rock_Paper_Scissors/Model_Files/test/images/zoom_tests_RockPaperScissors-mohamed_mp4-256_jpg.rf.c195df5dd565a69fb342bef482a8dab6.jpg: 640x640 (no detections), 7.7ms\n",
            "image 293/304 /content/gdrive/My Drive/Rock_Paper_Scissors/Model_Files/test/images/zoom_tests_RockPaperScissors-mohamed_mp4-27_jpg.rf.85bfca1bea8df3e5255f26112a7a0aad.jpg: 640x640 (no detections), 7.7ms\n",
            "image 294/304 /content/gdrive/My Drive/Rock_Paper_Scissors/Model_Files/test/images/zoom_tests_RockPaperScissors-mohamed_mp4-285_jpg.rf.7222941ab529a16277de5f941f652e85.jpg: 640x640 (no detections), 8.0ms\n",
            "image 295/304 /content/gdrive/My Drive/Rock_Paper_Scissors/Model_Files/test/images/zoom_tests_RockPaperScissors-mohamed_mp4-291_jpg.rf.d534df04c30fd69fdda812687610b6e2.jpg: 640x640 (no detections), 8.0ms\n",
            "image 296/304 /content/gdrive/My Drive/Rock_Paper_Scissors/Model_Files/test/images/zoom_tests_RockPaperScissors-mohamed_mp4-37_jpg.rf.2485e257dda9802813673d000ba3ad96.jpg: 640x640 1 Rock, 8.5ms\n",
            "image 297/304 /content/gdrive/My Drive/Rock_Paper_Scissors/Model_Files/test/images/zoom_tests_RockPaperScissors-mohamed_mp4-3_jpg.rf.a4a9d7c93efd42a20130d8a843713222.jpg: 640x640 (no detections), 7.8ms\n",
            "image 298/304 /content/gdrive/My Drive/Rock_Paper_Scissors/Model_Files/test/images/zoom_tests_RockPaperScissors-mohamed_mp4-42_jpg.rf.67dfbb4133d5bd1c428aec6500bbc909.jpg: 640x640 1 Rock, 7.7ms\n",
            "image 299/304 /content/gdrive/My Drive/Rock_Paper_Scissors/Model_Files/test/images/zoom_tests_RockPaperScissors-mohamed_mp4-58_jpg.rf.7c8250645d18838f38fdbbf1f2f29add.jpg: 640x640 1 Rock, 7.8ms\n",
            "image 300/304 /content/gdrive/My Drive/Rock_Paper_Scissors/Model_Files/test/images/zoom_tests_RockPaperScissors-mohamed_mp4-72_jpg.rf.ef3fa23e245712c301c395e6c0da275e.jpg: 640x640 1 Rock, 7.8ms\n",
            "image 301/304 /content/gdrive/My Drive/Rock_Paper_Scissors/Model_Files/test/images/zoom_tests_RockPaperScissors-mohamed_mp4-74_jpg.rf.c7a636a1ca423ca14dd9c46da92a1347.jpg: 640x640 1 Rock, 7.7ms\n",
            "image 302/304 /content/gdrive/My Drive/Rock_Paper_Scissors/Model_Files/test/images/zoom_tests_RockPaperScissors-mohamed_mp4-79_jpg.rf.5c30402c620144506cc2dc9bc87d3573.jpg: 640x640 1 Rock, 7.7ms\n",
            "image 303/304 /content/gdrive/My Drive/Rock_Paper_Scissors/Model_Files/test/images/zoom_tests_RockPaperScissors-mohamed_mp4-87_jpg.rf.02bbad88be3d329e5c8a4864029c4330.jpg: 640x640 1 Rock, 8.6ms\n",
            "image 304/304 /content/gdrive/My Drive/Rock_Paper_Scissors/Model_Files/test/images/zoom_tests_RockPaperScissors-mohamed_mp4-99_jpg.rf.4b5086b96398894f6916c2da8bcb8472.jpg: 640x640 1 Rock, 7.8ms\n",
            "Speed: 2.4ms preprocess, 7.8ms inference, 1.0ms postprocess per image at shape (1, 3, 640, 640)\n",
            "Results saved to \u001b[1mruns/detect/train2\u001b[0m\n"
          ]
        }
      ]
    },
    {
      "cell_type": "code",
      "source": [
        "import locale\n",
        "import os\n",
        "\n",
        "try:\n",
        "    locale.setlocale(locale.LC_ALL, 'en_US.UTF-8')\n",
        "except locale.Error as e:\n",
        "    print(\"Error setting locale:\", e)\n",
        "\n",
        "os.environ['LC_ALL'] = 'en_US.UTF-8'\n",
        "os.environ['LANG'] = 'en_US.UTF-8'\n",
        "\n",
        "locale.getpreferredencoding = lambda: \"UTF-8\""
      ],
      "metadata": {
        "id": "b2BTtsGrl0eV"
      },
      "execution_count": 8,
      "outputs": []
    },
    {
      "cell_type": "code",
      "source": [
        "# Copy the results folder to Google Drive\n",
        "!cp -r /content/runs \"/content/gdrive/My Drive/Rock_Paper_Scissors/Model_Output\""
      ],
      "metadata": {
        "id": "4rR8zDlNu5v1"
      },
      "execution_count": 9,
      "outputs": []
    },
    {
      "cell_type": "code",
      "source": [
        "# Get the model metrics\n",
        "metrics = model.val()"
      ],
      "metadata": {
        "id": "HJ0Dp4ZcvDO6",
        "colab": {
          "base_uri": "https://localhost:8080/"
        },
        "outputId": "e01a95e6-77db-4552-9874-539aba741988"
      },
      "execution_count": 10,
      "outputs": [
        {
          "output_type": "stream",
          "name": "stdout",
          "text": [
            "Ultralytics 8.3.104 🚀 Python-3.11.11 torch-2.6.0+cu124 CUDA:0 (NVIDIA A100-SXM4-40GB, 40507MiB)\n"
          ]
        },
        {
          "output_type": "stream",
          "name": "stderr",
          "text": [
            "\u001b[34m\u001b[1mval: \u001b[0mScanning /content/gdrive/My Drive/Rock_Paper_Scissors/Model_Files/valid/labels.cache... 576 images, 238 backgrounds, 0 corrupt: 100%|██████████| 576/576 [00:00<?, ?it/s]\n",
            "                 Class     Images  Instances      Box(P          R      mAP50  mAP50-95): 100%|██████████| 36/36 [00:04<00:00,  7.43it/s]\n"
          ]
        },
        {
          "output_type": "stream",
          "name": "stdout",
          "text": [
            "                   all        576        400       0.94      0.911      0.949       0.76\n",
            "                 Paper        132        139      0.934      0.916      0.956      0.771\n",
            "                  Rock        121        141       0.93      0.943       0.95      0.756\n",
            "              Scissors        116        120      0.957      0.875      0.942      0.754\n",
            "Speed: 0.5ms preprocess, 0.9ms inference, 0.0ms loss, 0.9ms postprocess per image\n",
            "Results saved to \u001b[1mruns/detect/train3\u001b[0m\n"
          ]
        }
      ]
    }
  ]
}